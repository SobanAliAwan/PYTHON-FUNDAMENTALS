{
  "nbformat": 4,
  "nbformat_minor": 0,
  "metadata": {
    "colab": {
      "provenance": [],
      "authorship_tag": "ABX9TyOPpw7y3722juspd8DApyZo",
      "include_colab_link": true
    },
    "kernelspec": {
      "name": "python3",
      "display_name": "Python 3"
    },
    "language_info": {
      "name": "python"
    }
  },
  "cells": [
    {
      "cell_type": "markdown",
      "metadata": {
        "id": "view-in-github",
        "colab_type": "text"
      },
      "source": [
        "<a href=\"https://colab.research.google.com/github/SobanAliAwan/PYTHON-FUNDAMENTALS/blob/main/PYTHON_FUNDAMENTALS_SESSION_3.ipynb\" target=\"_parent\"><img src=\"https://colab.research.google.com/assets/colab-badge.svg\" alt=\"Open In Colab\"/></a>"
      ]
    },
    {
      "cell_type": "markdown",
      "source": [
        "STRINGS IN PYTHON"
      ],
      "metadata": {
        "id": "W-41fvTfmCSH"
      }
    },
    {
      "cell_type": "code",
      "execution_count": 1,
      "metadata": {
        "id": "G2dC3O7alBvc"
      },
      "outputs": [],
      "source": [
        "# Strings are sequence of characters\n",
        "# In python specifically strings are the sequence of unicode characters\n",
        "# In Python, Unicode characters are characters from the Unicode standard, which is a universal character encoding system designed to support all the characters from all writing systems in the world (like English, Arabic, Chinese, emoji, symbols, etc.)."
      ]
    },
    {
      "cell_type": "markdown",
      "source": [
        "* Creating string\n",
        "* Accessing string\n",
        "* Editing string\n",
        "* Deleting string\n",
        "* Operation on string\n",
        "* String function\n"
      ],
      "metadata": {
        "id": "vBI94-Munio_"
      }
    },
    {
      "cell_type": "code",
      "source": [
        "# Creating string\n",
        "s = 'hello'\n",
        "s = \"hello\"\n",
        "s = '''hello''' # Used for multiline string\n",
        "print(s)\n"
      ],
      "metadata": {
        "colab": {
          "base_uri": "https://localhost:8080/"
        },
        "id": "fQGU21OenOXD",
        "outputId": "d2e78530-fe5a-498d-b09a-f5db0512fee9"
      },
      "execution_count": 4,
      "outputs": [
        {
          "output_type": "stream",
          "name": "stdout",
          "text": [
            "hello\n"
          ]
        }
      ]
    },
    {
      "cell_type": "code",
      "source": [
        "\"It's raining outside\""
      ],
      "metadata": {
        "colab": {
          "base_uri": "https://localhost:8080/",
          "height": 36
        },
        "id": "8vUrhdEqpS_j",
        "outputId": "d12fb9ec-b4d6-42c3-f7c4-102607b451ba"
      },
      "execution_count": 5,
      "outputs": [
        {
          "output_type": "execute_result",
          "data": {
            "text/plain": [
              "\"It's raining outside\""
            ],
            "application/vnd.google.colaboratory.intrinsic+json": {
              "type": "string"
            }
          },
          "metadata": {},
          "execution_count": 5
        }
      ]
    },
    {
      "cell_type": "markdown",
      "source": [
        "ACCESSING SUBSTRING FROM A STRRING"
      ],
      "metadata": {
        "id": "AykvnVHJp8uD"
      }
    },
    {
      "cell_type": "code",
      "source": [
        "# Positive Indexing\n",
        "s = \"hello world\"\n",
        "print(s[0])\n",
        "print(s[1])\n",
        "print(s[2])\n",
        "print(s[3])\n",
        "print(s[4])\n"
      ],
      "metadata": {
        "colab": {
          "base_uri": "https://localhost:8080/"
        },
        "id": "c09jcRpAqBlR",
        "outputId": "cfe5c146-ac17-47a8-9ddd-b11bd02d34a6"
      },
      "execution_count": 7,
      "outputs": [
        {
          "output_type": "stream",
          "name": "stdout",
          "text": [
            "h\n",
            "e\n",
            "l\n",
            "l\n",
            "o\n"
          ]
        }
      ]
    },
    {
      "cell_type": "code",
      "source": [
        "# Negative Indexing\n",
        "\n",
        "s = \"hello world\"\n",
        "print(s[-1])\n",
        "print(s[-2])\n",
        "print(s[-3])\n",
        "print(s[-4])\n",
        "print(s[-5])\n"
      ],
      "metadata": {
        "colab": {
          "base_uri": "https://localhost:8080/"
        },
        "id": "KR6nO4A8qqM2",
        "outputId": "dea46031-1293-4a86-f532-466a307f0a3f"
      },
      "execution_count": 9,
      "outputs": [
        {
          "output_type": "stream",
          "name": "stdout",
          "text": [
            "d\n",
            "l\n",
            "r\n",
            "o\n",
            "w\n"
          ]
        }
      ]
    },
    {
      "cell_type": "code",
      "source": [
        "# Slicing in python\n",
        "s = \"hello world\"\n",
        "print(s[0:5])\n",
        "print(s[2:])\n",
        "print(s[:4])\n",
        "print(s[:])\n",
        "print(s[-1])\n",
        "print(s[0:6:2]) # (Start,end,increment)\n",
        "print(s[::-1]) # Reverse the whole string"
      ],
      "metadata": {
        "colab": {
          "base_uri": "https://localhost:8080/"
        },
        "id": "jSdxdLL1rlsn",
        "outputId": "fee310d6-b28f-4e31-a1b9-c71d53a3303d"
      },
      "execution_count": 16,
      "outputs": [
        {
          "output_type": "stream",
          "name": "stdout",
          "text": [
            "hello\n",
            "llo world\n",
            "hell\n",
            "hello world\n",
            "d\n",
            "hlo\n",
            "dlrow olleh\n"
          ]
        }
      ]
    },
    {
      "cell_type": "markdown",
      "source": [
        "EDITING AND DELETING A STRING"
      ],
      "metadata": {
        "id": "Sh7ZihvUu8A3"
      }
    },
    {
      "cell_type": "code",
      "source": [
        "s = \"hello world\"\n",
        "# s[0] = \"H\" This will not work because str object does not support item assignment\n",
        "# Python strings are Immutable means once they are created they cant be edited\n"
      ],
      "metadata": {
        "id": "sPtJOx6yu7TY"
      },
      "execution_count": 17,
      "outputs": []
    },
    {
      "cell_type": "code",
      "source": [
        "# deleting a string\n",
        "s = \"hello world\"\n",
        "del s\n",
        "print(s) # Showing s is not defined because del function has deleted the s variable\n",
        "\n",
        "del s[-1,-5,2] # Not allowed because you cant delete a portion of a string but hyou can delete whole string"
      ],
      "metadata": {
        "colab": {
          "base_uri": "https://localhost:8080/",
          "height": 176
        },
        "id": "jBWrJcdPwRIW",
        "outputId": "35c817b3-0101-44d8-e7a8-56790517ee82"
      },
      "execution_count": 18,
      "outputs": [
        {
          "output_type": "error",
          "ename": "NameError",
          "evalue": "name 's' is not defined",
          "traceback": [
            "\u001b[0;31m---------------------------------------------------------------------------\u001b[0m",
            "\u001b[0;31mNameError\u001b[0m                                 Traceback (most recent call last)",
            "\u001b[0;32m/tmp/ipython-input-18-1397270400.py\u001b[0m in \u001b[0;36m<cell line: 0>\u001b[0;34m()\u001b[0m\n\u001b[1;32m      2\u001b[0m \u001b[0ms\u001b[0m \u001b[0;34m=\u001b[0m \u001b[0;34m\"hello world\"\u001b[0m\u001b[0;34m\u001b[0m\u001b[0;34m\u001b[0m\u001b[0m\n\u001b[1;32m      3\u001b[0m \u001b[0;32mdel\u001b[0m \u001b[0ms\u001b[0m\u001b[0;34m\u001b[0m\u001b[0;34m\u001b[0m\u001b[0m\n\u001b[0;32m----> 4\u001b[0;31m \u001b[0mprint\u001b[0m\u001b[0;34m(\u001b[0m\u001b[0ms\u001b[0m\u001b[0;34m)\u001b[0m\u001b[0;34m\u001b[0m\u001b[0;34m\u001b[0m\u001b[0m\n\u001b[0m",
            "\u001b[0;31mNameError\u001b[0m: name 's' is not defined"
          ]
        }
      ]
    },
    {
      "cell_type": "markdown",
      "source": [
        "OPERATIONS ON STRINGS"
      ],
      "metadata": {
        "id": "cFWHrNke6UhO"
      }
    },
    {
      "cell_type": "code",
      "source": [
        "# Arithematic operations\n",
        "# Only two artihematic operations work on strings\n",
        "\n",
        "print ('KARACHI' + ' ' + 'ISLAMABAD')\n",
        "print ('islamabad' * 5)"
      ],
      "metadata": {
        "colab": {
          "base_uri": "https://localhost:8080/"
        },
        "id": "7xaYQUCf6XN3",
        "outputId": "273d153a-273a-4b9d-c9b3-d01a702fda6d"
      },
      "execution_count": 4,
      "outputs": [
        {
          "output_type": "stream",
          "name": "stdout",
          "text": [
            "KARACHI ISLAMABAD\n",
            "islamabadislamabadislamabadislamabadislamabad\n"
          ]
        }
      ]
    },
    {
      "cell_type": "code",
      "source": [
        "# Rrelational operators\n",
        "# All relational operators work on strings\n",
        "\n",
        "'isb' == 'pindi'\n",
        "\n"
      ],
      "metadata": {
        "colab": {
          "base_uri": "https://localhost:8080/"
        },
        "id": "AMG5Fxc_Dw5L",
        "outputId": "1043d055-0ebd-47f8-9e5d-5c46086feb9e"
      },
      "execution_count": 7,
      "outputs": [
        {
          "output_type": "execute_result",
          "data": {
            "text/plain": [
              "False"
            ]
          },
          "metadata": {},
          "execution_count": 7
        }
      ]
    },
    {
      "cell_type": "code",
      "source": [
        "'Mumbai' > 'pune' # Flase because strings are not compared lengh wise but are compared LEXICOGRAPHICALLY\n",
        "# In Python, \"strings are compared lexicographically\" means they are compared the same way words are arranged in a dictionary — character by character from left to right, based on the Unicode value (or ASCII value) of each character.\n",
        "'Pune' > 'pune' # False because capital characters has small ASCI value then small characters"
      ],
      "metadata": {
        "colab": {
          "base_uri": "https://localhost:8080/"
        },
        "id": "ShueHtueEOc-",
        "outputId": "8ef90606-feba-476f-e869-135d4b1a7214"
      },
      "execution_count": 9,
      "outputs": [
        {
          "output_type": "execute_result",
          "data": {
            "text/plain": [
              "False"
            ]
          },
          "metadata": {},
          "execution_count": 9
        }
      ]
    },
    {
      "cell_type": "code",
      "source": [
        "'hello' and 'world'"
      ],
      "metadata": {
        "colab": {
          "base_uri": "https://localhost:8080/",
          "height": 36
        },
        "id": "KxrVuxpSG0yS",
        "outputId": "1d41b82e-04f2-4543-ab45-e609a9cc201c"
      },
      "execution_count": 10,
      "outputs": [
        {
          "output_type": "execute_result",
          "data": {
            "text/plain": [
              "'world'"
            ],
            "application/vnd.google.colaboratory.intrinsic+json": {
              "type": "string"
            }
          },
          "metadata": {},
          "execution_count": 10
        }
      ]
    },
    {
      "cell_type": "code",
      "source": [
        "'hello' or 'world' # if first one is true then it do not go further"
      ],
      "metadata": {
        "colab": {
          "base_uri": "https://localhost:8080/",
          "height": 36
        },
        "id": "hVLn8NIFID7w",
        "outputId": "b8562531-2410-4d8b-8193-c8757402f7d9"
      },
      "execution_count": 12,
      "outputs": [
        {
          "output_type": "execute_result",
          "data": {
            "text/plain": [
              "'hello'"
            ],
            "application/vnd.google.colaboratory.intrinsic+json": {
              "type": "string"
            }
          },
          "metadata": {},
          "execution_count": 12
        }
      ]
    },
    {
      "cell_type": "code",
      "source": [
        "# loops and membership operator also work on python string"
      ],
      "metadata": {
        "id": "cXMPvRZkJVvl"
      },
      "execution_count": 13,
      "outputs": []
    },
    {
      "cell_type": "markdown",
      "source": [
        "COMMON FUNCTIONS\n",
        "* len\n",
        "* min\n",
        "* max\n",
        "* sorted"
      ],
      "metadata": {
        "id": "1GIigMedJvry"
      }
    },
    {
      "cell_type": "code",
      "source": [
        "len('HELLO WORLD')"
      ],
      "metadata": {
        "colab": {
          "base_uri": "https://localhost:8080/"
        },
        "id": "cZQp1vBAJuqQ",
        "outputId": "ea6554ff-6ed9-4c1f-ac48-5e1d863a55cd"
      },
      "execution_count": 14,
      "outputs": [
        {
          "output_type": "execute_result",
          "data": {
            "text/plain": [
              "11"
            ]
          },
          "metadata": {},
          "execution_count": 14
        }
      ]
    },
    {
      "cell_type": "code",
      "source": [
        "max('HELLO WORLD')\n",
        "# based on ASCI value"
      ],
      "metadata": {
        "colab": {
          "base_uri": "https://localhost:8080/",
          "height": 36
        },
        "id": "2GFIYR6DKg-K",
        "outputId": "d724b709-8ebe-4fdf-b458-17929e160b72"
      },
      "execution_count": 17,
      "outputs": [
        {
          "output_type": "execute_result",
          "data": {
            "text/plain": [
              "'W'"
            ],
            "application/vnd.google.colaboratory.intrinsic+json": {
              "type": "string"
            }
          },
          "metadata": {},
          "execution_count": 17
        }
      ]
    },
    {
      "cell_type": "code",
      "source": [
        "min('HELLO WORLD')"
      ],
      "metadata": {
        "colab": {
          "base_uri": "https://localhost:8080/",
          "height": 36
        },
        "id": "VSC22xWCK5m5",
        "outputId": "84ff31f0-a284-4a01-ad18-13b40409baca"
      },
      "execution_count": 19,
      "outputs": [
        {
          "output_type": "execute_result",
          "data": {
            "text/plain": [
              "' '"
            ],
            "application/vnd.google.colaboratory.intrinsic+json": {
              "type": "string"
            }
          },
          "metadata": {},
          "execution_count": 19
        }
      ]
    },
    {
      "cell_type": "code",
      "source": [
        "sorted('HELLO WORLD')"
      ],
      "metadata": {
        "colab": {
          "base_uri": "https://localhost:8080/"
        },
        "id": "cGqu4KC-LV4i",
        "outputId": "60b6264c-e99b-450f-a6b8-c82573e0a713"
      },
      "execution_count": 21,
      "outputs": [
        {
          "output_type": "execute_result",
          "data": {
            "text/plain": [
              "[' ', 'D', 'E', 'H', 'L', 'L', 'L', 'O', 'O', 'R', 'W']"
            ]
          },
          "metadata": {},
          "execution_count": 21
        }
      ]
    },
    {
      "cell_type": "markdown",
      "source": [
        "STRING SPECIFIC FUNCTIONS\n",
        "* Capitalize\n",
        "* Title\n",
        "* upper\n",
        "* lower\n",
        "* Swapcase"
      ],
      "metadata": {
        "id": "q9pWbe3PLl3D"
      }
    },
    {
      "cell_type": "code",
      "source": [
        "s = 'Hello world'\n",
        "s.capitalize()"
      ],
      "metadata": {
        "colab": {
          "base_uri": "https://localhost:8080/",
          "height": 36
        },
        "id": "mXjLRnlWLlLT",
        "outputId": "a9b10fc1-7f90-473b-abaf-00b084efd8e5"
      },
      "execution_count": 23,
      "outputs": [
        {
          "output_type": "execute_result",
          "data": {
            "text/plain": [
              "'hELLO WORLD'"
            ],
            "application/vnd.google.colaboratory.intrinsic+json": {
              "type": "string"
            }
          },
          "metadata": {},
          "execution_count": 23
        }
      ]
    },
    {
      "cell_type": "code",
      "source": [
        "s = 'Hello world'\n",
        "s.title() # Capitalize each alphabet of the word"
      ],
      "metadata": {
        "id": "4c5zosAOMuhC",
        "outputId": "e04e938c-869e-4d44-dc81-2f8514227e9c",
        "colab": {
          "base_uri": "https://localhost:8080/",
          "height": 36
        }
      },
      "execution_count": 24,
      "outputs": [
        {
          "output_type": "execute_result",
          "data": {
            "text/plain": [
              "'Hello World'"
            ],
            "application/vnd.google.colaboratory.intrinsic+json": {
              "type": "string"
            }
          },
          "metadata": {},
          "execution_count": 24
        }
      ]
    },
    {
      "cell_type": "code",
      "source": [
        "s = 'Hello world'\n",
        "s.upper()"
      ],
      "metadata": {
        "id": "HtlmSJMFM2re",
        "outputId": "d50667cf-23ab-48e2-a3dd-685983f5c245",
        "colab": {
          "base_uri": "https://localhost:8080/",
          "height": 36
        }
      },
      "execution_count": 25,
      "outputs": [
        {
          "output_type": "execute_result",
          "data": {
            "text/plain": [
              "'HELLO WORLD'"
            ],
            "application/vnd.google.colaboratory.intrinsic+json": {
              "type": "string"
            }
          },
          "metadata": {},
          "execution_count": 25
        }
      ]
    },
    {
      "cell_type": "code",
      "source": [
        "s = 'Hello world'\n",
        "s.lower()"
      ],
      "metadata": {
        "id": "Bp7Wscf7M8ry",
        "outputId": "14099053-1f0f-4999-b432-d94fe6adcd95",
        "colab": {
          "base_uri": "https://localhost:8080/",
          "height": 36
        }
      },
      "execution_count": 26,
      "outputs": [
        {
          "output_type": "execute_result",
          "data": {
            "text/plain": [
              "'hello world'"
            ],
            "application/vnd.google.colaboratory.intrinsic+json": {
              "type": "string"
            }
          },
          "metadata": {},
          "execution_count": 26
        }
      ]
    },
    {
      "cell_type": "code",
      "source": [
        "s = 'Hello world'\n",
        "s.swapcase() # Capital to lower and lower to capital"
      ],
      "metadata": {
        "id": "FaOR1674NA35",
        "outputId": "a55f1e43-2fa6-4799-c2a3-d1f0f5d06e16",
        "colab": {
          "base_uri": "https://localhost:8080/",
          "height": 36
        }
      },
      "execution_count": 27,
      "outputs": [
        {
          "output_type": "execute_result",
          "data": {
            "text/plain": [
              "'hELLO WORLD'"
            ],
            "application/vnd.google.colaboratory.intrinsic+json": {
              "type": "string"
            }
          },
          "metadata": {},
          "execution_count": 27
        }
      ]
    },
    {
      "cell_type": "code",
      "source": [
        "'My name is Soban Ali Awan'.count('S')"
      ],
      "metadata": {
        "id": "XJUvk6ILNHvy",
        "outputId": "df7ad7ba-885a-49a8-df13-21baa6ad1123",
        "colab": {
          "base_uri": "https://localhost:8080/"
        }
      },
      "execution_count": 30,
      "outputs": [
        {
          "output_type": "execute_result",
          "data": {
            "text/plain": [
              "0"
            ]
          },
          "metadata": {},
          "execution_count": 30
        }
      ]
    },
    {
      "cell_type": "code",
      "source": [
        "'My name is Soban Ali Awan'.find('is')"
      ],
      "metadata": {
        "id": "F2vrYNpxOSaA",
        "outputId": "303f79de-5335-47ce-8ef1-9731b9c50de1",
        "colab": {
          "base_uri": "https://localhost:8080/"
        }
      },
      "execution_count": 31,
      "outputs": [
        {
          "output_type": "execute_result",
          "data": {
            "text/plain": [
              "8"
            ]
          },
          "metadata": {},
          "execution_count": 31
        }
      ]
    },
    {
      "cell_type": "code",
      "source": [
        "'My name is Soban Ali Awan'.startswith('My')"
      ],
      "metadata": {
        "id": "HMV9VVHmOnf2",
        "outputId": "0f6dc3fc-9db2-4910-ae23-04c9bde75569",
        "colab": {
          "base_uri": "https://localhost:8080/"
        }
      },
      "execution_count": 32,
      "outputs": [
        {
          "output_type": "execute_result",
          "data": {
            "text/plain": [
              "True"
            ]
          },
          "metadata": {},
          "execution_count": 32
        }
      ]
    },
    {
      "cell_type": "code",
      "source": [
        "'My name is Soban Ali Awan'.endswith('wan')\n"
      ],
      "metadata": {
        "id": "O6I5Bwd-O-C6",
        "outputId": "e2583af1-f55b-46d8-a09c-ae6b7f0648ef",
        "colab": {
          "base_uri": "https://localhost:8080/"
        }
      },
      "execution_count": 33,
      "outputs": [
        {
          "output_type": "execute_result",
          "data": {
            "text/plain": [
              "True"
            ]
          },
          "metadata": {},
          "execution_count": 33
        }
      ]
    },
    {
      "cell_type": "code",
      "source": [
        "name = 'Soban ali awan '\n",
        "gender = 'male'\n",
        "\n",
        "'Hi my name is {} and I am a {}'.format(name,gender)"
      ],
      "metadata": {
        "id": "BgOlUz6HPDDv",
        "outputId": "a2cff907-9fee-424e-d22d-b4ebe9b04993",
        "colab": {
          "base_uri": "https://localhost:8080/",
          "height": 36
        }
      },
      "execution_count": 34,
      "outputs": [
        {
          "output_type": "execute_result",
          "data": {
            "text/plain": [
              "'Hi my name is Soban ali awan  and I am a male'"
            ],
            "application/vnd.google.colaboratory.intrinsic+json": {
              "type": "string"
            }
          },
          "metadata": {},
          "execution_count": 34
        }
      ]
    },
    {
      "cell_type": "code",
      "source": [
        "'Hi my name is soban ali awan '.split()"
      ],
      "metadata": {
        "id": "-sdNFq4ZRpBz",
        "outputId": "edd10298-d5a3-4570-f0f3-ac43eb50cdb5",
        "colab": {
          "base_uri": "https://localhost:8080/"
        }
      },
      "execution_count": 35,
      "outputs": [
        {
          "output_type": "execute_result",
          "data": {
            "text/plain": [
              "['Hi', 'my', 'name', 'is', 'soban', 'ali', 'awan']"
            ]
          },
          "metadata": {},
          "execution_count": 35
        }
      ]
    }
  ]
}