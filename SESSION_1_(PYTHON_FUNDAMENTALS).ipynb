{
  "nbformat": 4,
  "nbformat_minor": 0,
  "metadata": {
    "colab": {
      "provenance": [],
      "authorship_tag": "ABX9TyOn+Gw6pE1x7R3DqWoJKORe",
      "include_colab_link": true
    },
    "kernelspec": {
      "name": "python3",
      "display_name": "Python 3"
    },
    "language_info": {
      "name": "python"
    }
  },
  "cells": [
    {
      "cell_type": "markdown",
      "metadata": {
        "id": "view-in-github",
        "colab_type": "text"
      },
      "source": [
        "<a href=\"https://colab.research.google.com/github/SobanAliAwan/PYTHON-FUNDAMENTALS/blob/main/SESSION_1_(PYTHON_FUNDAMENTALS).ipynb\" target=\"_parent\"><img src=\"https://colab.research.google.com/assets/colab-badge.svg\" alt=\"Open In Colab\"/></a>"
      ]
    },
    {
      "cell_type": "markdown",
      "source": [
        "1.PYTHON OUTPUT"
      ],
      "metadata": {
        "id": "Jk05k6qRcIIX"
      }
    },
    {
      "cell_type": "code",
      "execution_count": 2,
      "metadata": {
        "colab": {
          "base_uri": "https://localhost:8080/"
        },
        "id": "jPYIVZ1TbrN0",
        "outputId": "a524e05a-25d3-4414-d208-62382cc63d7d"
      },
      "outputs": [
        {
          "output_type": "stream",
          "name": "stdout",
          "text": [
            "HELLO WORLD\n"
          ]
        }
      ],
      "source": [
        "#python is case sensitive language\n",
        "print('HELLO WORLD')"
      ]
    },
    {
      "cell_type": "code",
      "source": [
        "print(\"SOBAN ALI AWAN\")"
      ],
      "metadata": {
        "colab": {
          "base_uri": "https://localhost:8080/"
        },
        "id": "Ytc4DB1GeGnj",
        "outputId": "fc1b78be-c32b-4825-8ffd-b1929e9ca831"
      },
      "execution_count": 3,
      "outputs": [
        {
          "output_type": "stream",
          "name": "stdout",
          "text": [
            "SOBAN ALI AWAN\n"
          ]
        }
      ]
    },
    {
      "cell_type": "code",
      "source": [
        "print(1,2,3,4,5,\"ABC\",'XYZ',1.2,1.000234,True)"
      ],
      "metadata": {
        "colab": {
          "base_uri": "https://localhost:8080/"
        },
        "id": "uxlIwxxOeKi_",
        "outputId": "6b9b1386-92bc-47fb-842b-e443c63bbb5f"
      },
      "execution_count": 4,
      "outputs": [
        {
          "output_type": "stream",
          "name": "stdout",
          "text": [
            "1 2 3 4 5 ABC XYZ 1.2 1.000234 True\n"
          ]
        }
      ]
    },
    {
      "cell_type": "code",
      "source": [
        "#separator\n",
        "print(1,2,3,4,5,\"ABC\",'XYZ',1.2,1.000234,True, sep='/')\n"
      ],
      "metadata": {
        "colab": {
          "base_uri": "https://localhost:8080/"
        },
        "id": "8DQER6u7ekqi",
        "outputId": "94158b7f-47f7-4ba3-81ac-8c2d5b8f75ee"
      },
      "execution_count": 5,
      "outputs": [
        {
          "output_type": "stream",
          "name": "stdout",
          "text": [
            "1/2/3/4/5/ABC/XYZ/1.2/1.000234/True\n"
          ]
        }
      ]
    },
    {
      "cell_type": "code",
      "source": [
        "#end operator\n",
        "print('Helo', end='-')\n",
        "print('WORLD')"
      ],
      "metadata": {
        "colab": {
          "base_uri": "https://localhost:8080/"
        },
        "id": "g3C7F5YKfdxY",
        "outputId": "66024daf-8ca0-4a47-8130-a38d5f263a6b"
      },
      "execution_count": 8,
      "outputs": [
        {
          "output_type": "stream",
          "name": "stdout",
          "text": [
            "Helo-WORLD\n"
          ]
        }
      ]
    },
    {
      "cell_type": "markdown",
      "source": [
        "2.DATA TYPES"
      ],
      "metadata": {
        "id": "KRi7b9mxHCZ1"
      }
    },
    {
      "cell_type": "code",
      "source": [
        "#integer data type\n",
        "print(8)\n",
        "#can print upto 1*10^309 integer value\n",
        "print(1e309)\n",
        "\n",
        "#float data type\n",
        "print(1.21)\n",
        "print(1.7e309)\n",
        "\n",
        "#boolean data type\n",
        "print(True)\n",
        "print(False)\n",
        "#not inclosed in single commas that means boolean is not text\n",
        "\n",
        "#text/string datatype\n",
        "print('soban ali awan')\n",
        "\n",
        "#complex\n",
        "print(2+6j)\n",
        "\n",
        "#list/array\n",
        "print([1,2,3,4,5])\n",
        "\n",
        "#tupple\n",
        "print((1,2,3,4,5))\n",
        "\n",
        "#set\n",
        "print({1,2,3,4,5})\n",
        "\n",
        "#dictionary also knowns as (KEY VALUE PAIR)\n",
        "print({'Name':'SOBAN','Gender':'Male'})\n",
        "\n"
      ],
      "metadata": {
        "colab": {
          "base_uri": "https://localhost:8080/"
        },
        "id": "1iSIlphLgJDh",
        "outputId": "91007dc9-a38e-401c-b7fa-ba6853636dcf"
      },
      "execution_count": 6,
      "outputs": [
        {
          "output_type": "stream",
          "name": "stdout",
          "text": [
            "8\n",
            "inf\n",
            "1.21\n",
            "inf\n",
            "True\n",
            "False\n",
            "soban ali awan\n",
            "(2+6j)\n",
            "[1, 2, 3, 4, 5]\n",
            "(1, 2, 3, 4, 5)\n",
            "{1, 2, 3, 4, 5}\n",
            "{'Name': 'SOBAN', 'Gender': 'Male'}\n"
          ]
        }
      ]
    },
    {
      "cell_type": "code",
      "source": [
        "#typpe function\n",
        "#it detects the data type that you have putted in\n",
        "type('soban ali awan')"
      ],
      "metadata": {
        "colab": {
          "base_uri": "https://localhost:8080/"
        },
        "id": "HaAcMkXZcip0",
        "outputId": "32ff6e47-ee75-42bc-97d7-68c480b61b2a"
      },
      "execution_count": 8,
      "outputs": [
        {
          "output_type": "execute_result",
          "data": {
            "text/plain": [
              "str"
            ]
          },
          "metadata": {},
          "execution_count": 8
        }
      ]
    },
    {
      "cell_type": "markdown",
      "source": [
        "3.VARIABLES"
      ],
      "metadata": {
        "id": "0wpKTHa4dAv2"
      }
    },
    {
      "cell_type": "code",
      "source": [
        "#Variables are containers that stores data or they are the containers for the future use\n",
        "name = 'soban ali awan'\n",
        "print(name)\n",
        "\n",
        "a = 5\n",
        "b = 10\n",
        "print(a*b)\n",
        "\n",
        "#And this is called DYNAMIC TYPING where you dont mentioned the data type of the variable\n",
        "#and it is one of the sublime property of python\n",
        "\n"
      ],
      "metadata": {
        "colab": {
          "base_uri": "https://localhost:8080/"
        },
        "id": "-qhLmuVcdAAx",
        "outputId": "86123db8-a805-43f2-b994-14cbf6dd0e83"
      },
      "execution_count": 11,
      "outputs": [
        {
          "output_type": "stream",
          "name": "stdout",
          "text": [
            "soban ali awan\n",
            "50\n"
          ]
        }
      ]
    },
    {
      "cell_type": "code",
      "source": [
        "#DYNAMIC BINDING\n",
        "#Means python do not have fixed variables that on updation change or update the value to the newest value\n",
        "a = 10\n",
        "print(a)\n",
        "\n",
        "a = 'soban ali awan'\n",
        "print(a)"
      ],
      "metadata": {
        "colab": {
          "base_uri": "https://localhost:8080/"
        },
        "id": "EQxsuctKfOOE",
        "outputId": "96d4da7a-68b4-40e0-89d9-dc1a17f3b10d"
      },
      "execution_count": 13,
      "outputs": [
        {
          "output_type": "stream",
          "name": "stdout",
          "text": [
            "10\n",
            "soban ali awan\n"
          ]
        }
      ]
    },
    {
      "cell_type": "code",
      "source": [
        "#methods of declaring variables\n",
        "a = 1\n",
        "b = 2\n",
        "c = 3\n",
        "print(a,b,c)\n",
        "\n",
        "a,b,c = 1,2,3\n",
        "print(a,b,c)\n",
        "\n",
        "a=b=c = 5\n",
        "print(a,b,c)\n"
      ],
      "metadata": {
        "colab": {
          "base_uri": "https://localhost:8080/"
        },
        "id": "C1mKKRI8gEFo",
        "outputId": "b2dda408-4079-473e-cfa9-2f3dbc87844d"
      },
      "execution_count": 14,
      "outputs": [
        {
          "output_type": "stream",
          "name": "stdout",
          "text": [
            "1 2 3\n",
            "1 2 3\n",
            "5 5 5\n"
          ]
        }
      ]
    },
    {
      "cell_type": "markdown",
      "source": [
        "4.KEYWORDS AND IDENTIFIERS\n"
      ],
      "metadata": {
        "id": "F-JBFAa5ir2d"
      }
    },
    {
      "cell_type": "code",
      "source": [
        "#Keywords are the cartian specialized words used for specific actions in programming or words reserved by compiler or interpreter which they use for self understanig for action means conversion of high level code to machine level code\n",
        "#There are 32 keywords in python\n",
        "#Creating names in programming is termed as identifiers\n",
        "\n"
      ],
      "metadata": {
        "id": "OOP_o_Jnio_y"
      },
      "execution_count": 15,
      "outputs": []
    },
    {
      "cell_type": "markdown",
      "source": [
        "5.USER INPUT"
      ],
      "metadata": {
        "id": "o1hil-F21Am4"
      }
    },
    {
      "cell_type": "code",
      "source": [
        "input('WHAT IS YOUR NAME ')"
      ],
      "metadata": {
        "colab": {
          "base_uri": "https://localhost:8080/",
          "height": 53
        },
        "id": "pvsMkJcR0_Ge",
        "outputId": "00d197dc-c240-45ef-8aa4-75ee110f9953"
      },
      "execution_count": 18,
      "outputs": [
        {
          "name": "stdout",
          "output_type": "stream",
          "text": [
            "WHAT IS YOUR NAME soban\n"
          ]
        },
        {
          "output_type": "execute_result",
          "data": {
            "text/plain": [
              "'soban'"
            ],
            "application/vnd.google.colaboratory.intrinsic+json": {
              "type": "string"
            }
          },
          "metadata": {},
          "execution_count": 18
        }
      ]
    },
    {
      "cell_type": "code",
      "source": [
        "#FIRST PROGRAMME\n",
        "\n",
        "#TAKE TWO NUMBERS FROM USER AND STORE IN IT VARIABLES\n",
        "fnum = input('Enter the first number: ')\n",
        "snum = input('Enter the second number: ')\n",
        "#ADD THE TWO VARIABLES\n",
        "result = int(fnum) + int(snum) #EXPLICIN TYPE CONVERSION: WHERE YOU TELL THE INTERPRETER TO CONVERT ONE DATA TYPE INTO ANOTHER\n",
        "#PRINT THE RESULT\n",
        "print(result)\n",
        "print(type(fnum)) #CREATE NEW OBJECT FOR THE CONVERTED DATA TYPE DONOT ALTER THE ORIGINAL DATA TYPE\n",
        "\n"
      ],
      "metadata": {
        "colab": {
          "base_uri": "https://localhost:8080/"
        },
        "id": "KPYsaWGP5pIt",
        "outputId": "330eb1cb-50d2-4af3-f5e4-99e00d9601e8"
      },
      "execution_count": 23,
      "outputs": [
        {
          "output_type": "stream",
          "name": "stdout",
          "text": [
            "Enter the first number: 1\n",
            "Enter the second number: 2\n",
            "3\n",
            "<class 'str'>\n"
          ]
        }
      ]
    },
    {
      "cell_type": "markdown",
      "source": [
        "7.LITERALS"
      ],
      "metadata": {
        "id": "IxRRzuhl-Qcu"
      }
    },
    {
      "cell_type": "code",
      "source": [
        "# Raw value that is stored in variable is called as literal\n",
        "a = 0b1010 # binary literal (ob tells interpreter that next to ob is binary number)\n",
        "b = 100 #decimal literal\n",
        "c = 0o310 #octal literal (o tells interpreter that next to o is octal number)\n",
        "d = 0x12c #hexadecimal literal (x tells interpreter that next to x is hexadecimal number)\n",
        "\n",
        "# Float literal\n",
        "float_1 = 10.5\n",
        "float_2 = 1.5e2 #1.5*10^2\n",
        "float_3 = 1.5e-3 #1.5*10^-3"
      ],
      "metadata": {
        "id": "yST1OY2A-OJc"
      },
      "execution_count": null,
      "outputs": []
    }
  ]
}