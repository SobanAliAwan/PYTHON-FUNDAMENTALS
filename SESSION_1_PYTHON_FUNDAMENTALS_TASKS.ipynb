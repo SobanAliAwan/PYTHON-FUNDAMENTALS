{
  "nbformat": 4,
  "nbformat_minor": 0,
  "metadata": {
    "colab": {
      "provenance": [],
      "authorship_tag": "ABX9TyNC0XDJFec9OCnuhKfVPMGm",
      "include_colab_link": true
    },
    "kernelspec": {
      "name": "python3",
      "display_name": "Python 3"
    },
    "language_info": {
      "name": "python"
    }
  },
  "cells": [
    {
      "cell_type": "markdown",
      "metadata": {
        "id": "view-in-github",
        "colab_type": "text"
      },
      "source": [
        "<a href=\"https://colab.research.google.com/github/SobanAliAwan/PYTHON-FUNDAMENTALS/blob/main/SESSION_1_PYTHON_FUNDAMENTALS_TASKS.ipynb\" target=\"_parent\"><img src=\"https://colab.research.google.com/assets/colab-badge.svg\" alt=\"Open In Colab\"/></a>"
      ]
    },
    {
      "cell_type": "markdown",
      "source": [
        "PYTHON FUNDAMENTALS 1 (PRACTICE QUESTIONS)"
      ],
      "metadata": {
        "id": "OiyND64W2X0o"
      }
    },
    {
      "cell_type": "markdown",
      "source": [
        "Scenario: A company collects names and ages of users through a form.\n",
        "Question: Write a script that takes a user's name and age as input and prints a formatted message like:\n",
        "\"Welcome Sarah, you are 25 years old!\"\n"
      ],
      "metadata": {
        "id": "nggmR_Oq2kQV"
      }
    },
    {
      "cell_type": "code",
      "source": [
        "name = input(\"ENTER YOUR NAME: \")\n",
        "age = input(\"ENTER YOUR AGE: \")\n",
        "\n",
        "print(\"Welcome\",name,\"you are\",age,\"years old!\")"
      ],
      "metadata": {
        "colab": {
          "base_uri": "https://localhost:8080/"
        },
        "id": "s_jkBE3C2uw8",
        "outputId": "d3223d57-fe1a-4a43-c865-924d3251674a"
      },
      "execution_count": 4,
      "outputs": [
        {
          "output_type": "stream",
          "name": "stdout",
          "text": [
            "ENTER YOUR NAME: Sarah\n",
            "ENTER YOUR AGE: 21\n",
            "Welcome Sarah you are 21 years old!\n"
          ]
        }
      ]
    },
    {
      "cell_type": "markdown",
      "source": [
        "Scenario: You're reading data from an API and want to check if the response is returning expected types.\n",
        "Question: Write code that takes a variable x and prints its data type.\n",
        "Also, test it for 42, 3.14, \"hello\", and True."
      ],
      "metadata": {
        "id": "eHY1etkI33y2"
      }
    },
    {
      "cell_type": "code",
      "source": [
        "x = 42\n",
        "print(type(x))\n",
        "\n",
        "x = 3.14\n",
        "print(type(x))\n",
        "\n",
        "x = 'hello'\n",
        "print(type(x))\n",
        "\n",
        "x = True\n",
        "print(type(x))\n"
      ],
      "metadata": {
        "colab": {
          "base_uri": "https://localhost:8080/"
        },
        "id": "Lpsxre8-4BFS",
        "outputId": "ae519915-d7d6-4dd9-eac7-36bc8f127b2b"
      },
      "execution_count": 9,
      "outputs": [
        {
          "output_type": "stream",
          "name": "stdout",
          "text": [
            "<class 'int'>\n",
            "<class 'float'>\n",
            "<class 'str'>\n",
            "<class 'bool'>\n"
          ]
        }
      ]
    },
    {
      "cell_type": "markdown",
      "source": [
        "Scenario: You are making a tool to clean up user input.\n",
        "Question: Ask the user for their favorite fruit and store it in lowercase, even if they type in uppercase or mixed case."
      ],
      "metadata": {
        "id": "uMtHhvWi5kl_"
      }
    },
    {
      "cell_type": "code",
      "source": [
        "fruit = input('What is your favourite fruit: ')\n",
        "fruit = fruit.lower()\n",
        "print('YOUR FACOURITE FRUIT IS: ',fruit)"
      ],
      "metadata": {
        "colab": {
          "base_uri": "https://localhost:8080/"
        },
        "id": "MX87r5IF52VJ",
        "outputId": "0b08635c-edbc-4b45-aeef-3d7782960067"
      },
      "execution_count": 11,
      "outputs": [
        {
          "output_type": "stream",
          "name": "stdout",
          "text": [
            "What is your favourite fruit: MANGO\n",
            "YOUR FACOURITE FRUIT IS:  mango\n"
          ]
        }
      ]
    },
    {
      "cell_type": "markdown",
      "source": [
        "Scenario: You're auditing configuration files.\n",
        "Question: In the line timeout = 60, identify the literal and its type.\n",
        "\n"
      ],
      "metadata": {
        "id": "IZ1mYhp6Bor1"
      }
    },
    {
      "cell_type": "code",
      "source": [
        "timeout = 60\n",
        "#60 is the literal and its type is integer\n",
        "print(type(timeout))"
      ],
      "metadata": {
        "colab": {
          "base_uri": "https://localhost:8080/"
        },
        "id": "WShZV5DmBpXR",
        "outputId": "90d0ab01-d6fb-43d9-99e7-477842355340"
      },
      "execution_count": 12,
      "outputs": [
        {
          "output_type": "stream",
          "name": "stdout",
          "text": [
            "<class 'int'>\n"
          ]
        }
      ]
    },
    {
      "cell_type": "markdown",
      "source": [
        "Assigning to a Keyword\n",
        "python\n",
        "Copy\n",
        "Edit\n",
        "if = 10  # ❌ SyntaxError\n",
        "You cannot use keywords as variable names."
      ],
      "metadata": {
        "id": "fBSxXtCoDP-9"
      }
    },
    {
      "cell_type": "markdown",
      "source": [
        "Q1. Predict the Output"
      ],
      "metadata": {
        "id": "Q_QUD7LwESXl"
      }
    },
    {
      "cell_type": "code",
      "source": [
        "a = \"10\"\n",
        "b = 10\n",
        "c = a * b\n",
        "print(c)\n"
      ],
      "metadata": {
        "colab": {
          "base_uri": "https://localhost:8080/"
        },
        "id": "FPjsDnL3EURN",
        "outputId": "1fdb5168-c7f1-4a0d-bad4-55e49de8f48b"
      },
      "execution_count": 13,
      "outputs": [
        {
          "output_type": "stream",
          "name": "stdout",
          "text": [
            "10101010101010101010\n"
          ]
        }
      ]
    },
    {
      "cell_type": "markdown",
      "source": [
        "Identify the Error"
      ],
      "metadata": {
        "id": "hxyJOsj_EaNk"
      }
    },
    {
      "cell_type": "code",
      "source": [
        "def = \"value\"\n",
        "print(def)"
      ],
      "metadata": {
        "colab": {
          "base_uri": "https://localhost:8080/",
          "height": 106
        },
        "id": "wBS-gEa6EcqF",
        "outputId": "7c2c797a-81e1-4afe-9fc6-fa8a0d838c0e"
      },
      "execution_count": 14,
      "outputs": [
        {
          "output_type": "error",
          "ename": "SyntaxError",
          "evalue": "invalid syntax (ipython-input-14-3670614826.py, line 1)",
          "traceback": [
            "\u001b[0;36m  File \u001b[0;32m\"/tmp/ipython-input-14-3670614826.py\"\u001b[0;36m, line \u001b[0;32m1\u001b[0m\n\u001b[0;31m    def = \"value\"\u001b[0m\n\u001b[0m        ^\u001b[0m\n\u001b[0;31mSyntaxError\u001b[0m\u001b[0;31m:\u001b[0m invalid syntax\n"
          ]
        }
      ]
    },
    {
      "cell_type": "markdown",
      "source": [
        "Input Trap\n",
        "The user enters a number: 5.\n",
        "What is the type of the value stored from this line?"
      ],
      "metadata": {
        "id": "7gbERgwGEjgs"
      }
    },
    {
      "cell_type": "code",
      "source": [
        "num = input(\"Enter a number: \")\n",
        "print(type(num))"
      ],
      "metadata": {
        "colab": {
          "base_uri": "https://localhost:8080/",
          "height": 304
        },
        "id": "UMydReqBEqgi",
        "outputId": "d9d84a47-e298-4730-a293-2df842ae487a"
      },
      "execution_count": 16,
      "outputs": [
        {
          "output_type": "error",
          "ename": "KeyboardInterrupt",
          "evalue": "Interrupted by user",
          "traceback": [
            "\u001b[0;31m---------------------------------------------------------------------------\u001b[0m",
            "\u001b[0;31mKeyboardInterrupt\u001b[0m                         Traceback (most recent call last)",
            "\u001b[0;32m/tmp/ipython-input-16-816678591.py\u001b[0m in \u001b[0;36m<cell line: 0>\u001b[0;34m()\u001b[0m\n\u001b[0;32m----> 1\u001b[0;31m \u001b[0mnum\u001b[0m \u001b[0;34m=\u001b[0m \u001b[0minput\u001b[0m\u001b[0;34m(\u001b[0m\u001b[0;34m\"Enter a number: \"\u001b[0m\u001b[0;34m)\u001b[0m\u001b[0;34m\u001b[0m\u001b[0;34m\u001b[0m\u001b[0m\n\u001b[0m\u001b[1;32m      2\u001b[0m \u001b[0mprint\u001b[0m\u001b[0;34m(\u001b[0m\u001b[0mtype\u001b[0m\u001b[0;34m(\u001b[0m\u001b[0mnum\u001b[0m\u001b[0;34m)\u001b[0m\u001b[0;34m)\u001b[0m\u001b[0;34m\u001b[0m\u001b[0;34m\u001b[0m\u001b[0m\n",
            "\u001b[0;32m/usr/local/lib/python3.11/dist-packages/ipykernel/kernelbase.py\u001b[0m in \u001b[0;36mraw_input\u001b[0;34m(self, prompt)\u001b[0m\n\u001b[1;32m   1175\u001b[0m                 \u001b[0;34m\"raw_input was called, but this frontend does not support input requests.\"\u001b[0m\u001b[0;34m\u001b[0m\u001b[0;34m\u001b[0m\u001b[0m\n\u001b[1;32m   1176\u001b[0m             )\n\u001b[0;32m-> 1177\u001b[0;31m         return self._input_request(\n\u001b[0m\u001b[1;32m   1178\u001b[0m             \u001b[0mstr\u001b[0m\u001b[0;34m(\u001b[0m\u001b[0mprompt\u001b[0m\u001b[0;34m)\u001b[0m\u001b[0;34m,\u001b[0m\u001b[0;34m\u001b[0m\u001b[0;34m\u001b[0m\u001b[0m\n\u001b[1;32m   1179\u001b[0m             \u001b[0mself\u001b[0m\u001b[0;34m.\u001b[0m\u001b[0m_parent_ident\u001b[0m\u001b[0;34m[\u001b[0m\u001b[0;34m\"shell\"\u001b[0m\u001b[0;34m]\u001b[0m\u001b[0;34m,\u001b[0m\u001b[0;34m\u001b[0m\u001b[0;34m\u001b[0m\u001b[0m\n",
            "\u001b[0;32m/usr/local/lib/python3.11/dist-packages/ipykernel/kernelbase.py\u001b[0m in \u001b[0;36m_input_request\u001b[0;34m(self, prompt, ident, parent, password)\u001b[0m\n\u001b[1;32m   1217\u001b[0m             \u001b[0;32mexcept\u001b[0m \u001b[0mKeyboardInterrupt\u001b[0m\u001b[0;34m:\u001b[0m\u001b[0;34m\u001b[0m\u001b[0;34m\u001b[0m\u001b[0m\n\u001b[1;32m   1218\u001b[0m                 \u001b[0;31m# re-raise KeyboardInterrupt, to truncate traceback\u001b[0m\u001b[0;34m\u001b[0m\u001b[0;34m\u001b[0m\u001b[0m\n\u001b[0;32m-> 1219\u001b[0;31m                 \u001b[0;32mraise\u001b[0m \u001b[0mKeyboardInterrupt\u001b[0m\u001b[0;34m(\u001b[0m\u001b[0;34m\"Interrupted by user\"\u001b[0m\u001b[0;34m)\u001b[0m \u001b[0;32mfrom\u001b[0m \u001b[0;32mNone\u001b[0m\u001b[0;34m\u001b[0m\u001b[0;34m\u001b[0m\u001b[0m\n\u001b[0m\u001b[1;32m   1220\u001b[0m             \u001b[0;32mexcept\u001b[0m \u001b[0mException\u001b[0m\u001b[0;34m:\u001b[0m\u001b[0;34m\u001b[0m\u001b[0;34m\u001b[0m\u001b[0m\n\u001b[1;32m   1221\u001b[0m                 \u001b[0mself\u001b[0m\u001b[0;34m.\u001b[0m\u001b[0mlog\u001b[0m\u001b[0;34m.\u001b[0m\u001b[0mwarning\u001b[0m\u001b[0;34m(\u001b[0m\u001b[0;34m\"Invalid Message:\"\u001b[0m\u001b[0;34m,\u001b[0m \u001b[0mexc_info\u001b[0m\u001b[0;34m=\u001b[0m\u001b[0;32mTrue\u001b[0m\u001b[0;34m)\u001b[0m\u001b[0;34m\u001b[0m\u001b[0;34m\u001b[0m\u001b[0m\n",
            "\u001b[0;31mKeyboardInterrupt\u001b[0m: Interrupted by user"
          ]
        }
      ]
    },
    {
      "cell_type": "markdown",
      "source": [
        "Keyword Confusion"
      ],
      "metadata": {
        "id": "inFvxkcOEw7k"
      }
    },
    {
      "cell_type": "code",
      "source": [
        "if = 12\n",
        "else_ = 23\n",
        "None = 45\n",
        "firstName = \"Ali\""
      ],
      "metadata": {
        "id": "QpADRfrHE4xE"
      },
      "execution_count": null,
      "outputs": []
    },
    {
      "cell_type": "markdown",
      "source": [
        "Output Analysis"
      ],
      "metadata": {
        "id": "tU0wfeUzE7n8"
      }
    },
    {
      "cell_type": "code",
      "source": [
        "x = 3\n",
        "y = \"x\"\n",
        "z = y * x\n",
        "print(z)"
      ],
      "metadata": {
        "colab": {
          "base_uri": "https://localhost:8080/"
        },
        "collapsed": true,
        "id": "pcf2WOIRE_Wa",
        "outputId": "0a7c574e-0043-4338-dab4-2e8a14c695e2"
      },
      "execution_count": 18,
      "outputs": [
        {
          "output_type": "stream",
          "name": "stdout",
          "text": [
            "xxx\n"
          ]
        }
      ]
    },
    {
      "cell_type": "markdown",
      "source": [
        "Real-World Style Input Processing\n",
        "Write a program that:\n",
        "\n",
        "Asks for a user’s full name and age\n",
        "\n",
        "Converts the name to uppercase and stores age as an integer\n",
        "\n",
        "Prints: \"USER: ZARA, AGE: 21, TYPE OF AGE: <class 'int'>\""
      ],
      "metadata": {
        "id": "uVvGa2B2FFY8"
      }
    },
    {
      "cell_type": "code",
      "source": [
        "name = input('ENTER YOUR NAME: ')\n",
        "age = int(input('ENTER YOUR AGE: '))\n",
        "name = name.upper()\n",
        "print('USER: ',name,'AGE: ',age,'TYPE OF AGE: ',type(age))"
      ],
      "metadata": {
        "colab": {
          "base_uri": "https://localhost:8080/"
        },
        "id": "WHeMY6Q7FI75",
        "outputId": "400bbc9e-a246-4ff8-aadb-dfc3fc28f13b"
      },
      "execution_count": 19,
      "outputs": [
        {
          "output_type": "stream",
          "name": "stdout",
          "text": [
            "ENTER YOUR NAME: Soban Ali Awan\n",
            "ENTER YOUR AGE: 21\n",
            "USER:  SOBAN ALI AWAN AGE:  21 TYPE OF AGE:  <class 'int'>\n"
          ]
        }
      ]
    },
    {
      "cell_type": "markdown",
      "source": [
        "Variable Reuse Logic\n"
      ],
      "metadata": {
        "id": "QenJvJe-yqVR"
      }
    },
    {
      "cell_type": "code",
      "source": [
        "value = \"10\"\n",
        "value = int(value) + 5\n",
        "print(value)"
      ],
      "metadata": {
        "colab": {
          "base_uri": "https://localhost:8080/"
        },
        "collapsed": true,
        "id": "FmxvqTjGyrWZ",
        "outputId": "c4b53eb3-a3bc-4054-e2ec-b1b2abca551a"
      },
      "execution_count": 1,
      "outputs": [
        {
          "output_type": "stream",
          "name": "stdout",
          "text": [
            "15\n"
          ]
        }
      ]
    },
    {
      "cell_type": "code",
      "source": [],
      "metadata": {
        "id": "lplUrS3XyuMM"
      },
      "execution_count": null,
      "outputs": []
    }
  ]
}