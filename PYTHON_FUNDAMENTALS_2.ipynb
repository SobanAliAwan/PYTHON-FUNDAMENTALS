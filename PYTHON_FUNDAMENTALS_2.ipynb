{
  "nbformat": 4,
  "nbformat_minor": 0,
  "metadata": {
    "colab": {
      "provenance": [],
      "authorship_tag": "ABX9TyPYEY0LaoxE+m3p9LfKABqf",
      "include_colab_link": true
    },
    "kernelspec": {
      "name": "python3",
      "display_name": "Python 3"
    },
    "language_info": {
      "name": "python"
    }
  },
  "cells": [
    {
      "cell_type": "markdown",
      "metadata": {
        "id": "view-in-github",
        "colab_type": "text"
      },
      "source": [
        "<a href=\"https://colab.research.google.com/github/SobanAliAwan/PYTHON-FUNDAMENTALS/blob/main/PYTHON_FUNDAMENTALS_2.ipynb\" target=\"_parent\"><img src=\"https://colab.research.google.com/assets/colab-badge.svg\" alt=\"Open In Colab\"/></a>"
      ]
    },
    {
      "cell_type": "markdown",
      "source": [
        "1.OPERATORS\n",
        "\n",
        "1.   Arithematic operators\n",
        "2.   Relational operators\n",
        "3.  Logical operators\n",
        "4.  Bitwise operators\n",
        "5.  Assignment operator\n",
        "6.  Membership operators\n"
      ],
      "metadata": {
        "id": "2v29XXhMGE5g"
      }
    },
    {
      "cell_type": "code",
      "execution_count": null,
      "metadata": {
        "colab": {
          "base_uri": "https://localhost:8080/"
        },
        "id": "dQT-GPTX7OcD",
        "outputId": "63a78bfb-f159-45a9-d00a-8b9e19b3e0fb"
      },
      "outputs": [
        {
          "output_type": "stream",
          "name": "stdout",
          "text": [
            "a+b= 30\n",
            "a-b= -10\n",
            "a*b= 200\n",
            "a/b= 0.5\n",
            "a%b= 10\n",
            "a//b= 0\n",
            "a**b= 100000000000000000000\n",
            "a^b= 30\n"
          ]
        }
      ],
      "source": [
        "# ARITHEMATIC OPERATORS\n",
        "a=10\n",
        "b=20\n",
        "print(\"a+b=\",a+b) #addition\n",
        "print(\"a-b=\",a-b) #subtraction\n",
        "print(\"a*b=\",a*b) #multiplication\n",
        "print(\"a/b=\",a/b) #division\n",
        "print(\"a%b=\",a%b) #modulus(tells remindar value)\n",
        "print(\"a//b=\",a//b) #floor division(if quotient is in decimal then it will convert quotient into integer value)\n",
        "print(\"a**b=\",a**b) #exponent(power operator)\n"
      ]
    },
    {
      "cell_type": "code",
      "source": [
        "# RELATIONAL OPERATORS\n",
        "a=10\n",
        "b=20\n",
        "print(\"a>b=\",a>b) #greater than\n",
        "print(\"a<b=\",a<b) #less than\n",
        "print(\"a>=b=\",a>=b) #greater than or equal to\n",
        "print(\"a<=b=\",a<=b) #less than or equal to\n",
        "print(\"a==b=\",a==b) #equal to\n",
        "print(\"a!=b=\",a!=b) #not equal to\n"
      ],
      "metadata": {
        "colab": {
          "base_uri": "https://localhost:8080/"
        },
        "id": "10UWTAe-I8nm",
        "outputId": "c14a442e-25a7-4234-87a0-7e743eb49661"
      },
      "execution_count": null,
      "outputs": [
        {
          "output_type": "stream",
          "name": "stdout",
          "text": [
            "a>b= False\n",
            "a<b= True\n",
            "a>=b= False\n",
            "a<=b= True\n",
            "a==b= False\n",
            "a!=b= True\n"
          ]
        }
      ]
    },
    {
      "cell_type": "code",
      "source": [
        "# LOGICAL OPERATORS\n",
        "print(1 and 0) #WHEN BOTH ARE ON IT WILL PRINT THE VALUE\n",
        "print(1 or 0) #IF ONE OF THEM IS ON IT WILL PRINT THE VALUE\n",
        "print(not 1) #ALTER 1 INTO 0 AND 0 INTO 1"
      ],
      "metadata": {
        "colab": {
          "base_uri": "https://localhost:8080/"
        },
        "id": "_DtlZ5cOJaWu",
        "outputId": "ef16619d-80d9-406a-9ee3-85932b24b595"
      },
      "execution_count": null,
      "outputs": [
        {
          "output_type": "stream",
          "name": "stdout",
          "text": [
            "0\n",
            "1\n",
            "False\n"
          ]
        }
      ]
    },
    {
      "cell_type": "code",
      "source": [
        "# BITWISE OPERATORS\n",
        "print(2 & 3) #AND\n",
        "print(2 | 3) #OR\n",
        "print(2 ^ 3) #XOR\n",
        "print(~ 2) #NOT\n",
        "print(2 >> 2) #RIGHT SHIFT\n",
        "print(2 << 2) #LEFT SHIFT"
      ],
      "metadata": {
        "colab": {
          "base_uri": "https://localhost:8080/"
        },
        "id": "E7e6TPsvKmXg",
        "outputId": "4bdf3dea-7108-4d6a-8d84-57c13a79b590"
      },
      "execution_count": null,
      "outputs": [
        {
          "output_type": "stream",
          "name": "stdout",
          "text": [
            "2\n",
            "3\n",
            "1\n",
            "-3\n",
            "0\n",
            "8\n"
          ]
        }
      ]
    },
    {
      "cell_type": "code",
      "source": [
        "# ASSIGNMENT OPERATOR\n",
        "\n",
        "a = 2\n",
        "a += 2 #a=a+2\n",
        "print(a)\n",
        "a *= 2 #a=a*2\n",
        "print(a)\n",
        "a -= 2 #a=a-2\n",
        "print(a)\n",
        "a /= 2 #a=a/2\n",
        "print(a)\n",
        "a %= 2 #a=a%2\n",
        "print(a)\n",
        "a //= 2 #a=a//2\n",
        "print(a)\n",
        "a **= 2 #a=a**2\n",
        "print(a)\n"
      ],
      "metadata": {
        "colab": {
          "base_uri": "https://localhost:8080/"
        },
        "id": "nTjEFimpMago",
        "outputId": "eb98b0be-dcb3-4473-a4e6-b14f7499b82f"
      },
      "execution_count": null,
      "outputs": [
        {
          "output_type": "stream",
          "name": "stdout",
          "text": [
            "4\n",
            "8\n",
            "6\n",
            "3.0\n",
            "1.0\n",
            "0.0\n",
            "0.0\n"
          ]
        }
      ]
    },
    {
      "cell_type": "code",
      "source": [
        "# MEMBERSHIP OPERATOR\n",
        "print('p' in 'python')\n",
        "print('p' not in 'python')"
      ],
      "metadata": {
        "colab": {
          "base_uri": "https://localhost:8080/"
        },
        "id": "NcVU5fO7MzcV",
        "outputId": "c105f505-eb69-45c3-ad52-d72f2e4db917"
      },
      "execution_count": null,
      "outputs": [
        {
          "output_type": "stream",
          "name": "stdout",
          "text": [
            "True\n",
            "False\n"
          ]
        }
      ]
    },
    {
      "cell_type": "code",
      "source": [
        "# FIND THE SUM OF A THREE DIGIT NUMBER ENTERED BY THE USER\n",
        "num = int(input('ENTER THE THREE DIGIT NUMBER: '))\n",
        "#345%10=5\n",
        "a = num % 10\n",
        "#345//10=34\n",
        "num = num // 10\n",
        "#34%10=4\n",
        "b = num % 10\n",
        "#34//10=3\n",
        "num = num // 10\n",
        "#3%10=3\n",
        "c = num % 10\n",
        "print('SUM OF THREE DIGIT NUMBER IS: ',a+b+c)\n"
      ],
      "metadata": {
        "colab": {
          "base_uri": "https://localhost:8080/"
        },
        "id": "K2LFf4MyeuXT",
        "outputId": "9bf9be24-b2d2-492a-a2e8-c37e4376b0db"
      },
      "execution_count": null,
      "outputs": [
        {
          "output_type": "stream",
          "name": "stdout",
          "text": [
            "ENTER THE THREE DIGIT NUMBER: 123\n",
            "SUM OF THREE DIGIT NUMBER IS:  6\n"
          ]
        }
      ]
    },
    {
      "cell_type": "markdown",
      "source": [
        "2.IF-ELSE IN PYTHON"
      ],
      "metadata": {
        "id": "kUNVL5XFg0hq"
      }
    },
    {
      "cell_type": "code",
      "source": [
        "# LOGIN PROGRAMME AND IDENTATION --> when shift to another line leave some space\n",
        "# EMAIL: SOUBANALIAWAN@GMAIL.COM\n",
        "# PASSWORD: 1234\n",
        "\n",
        "email = input('ENTER YOUR EMAIL: ')\n",
        "password = input('ENTER YOUR PASSWORD: ')\n",
        "\n",
        "if email == 'soubanaliawan@gmail.com' and password == '1234':\n",
        "  print('YOU HAVE SUCCESSFULYY LOGGED IN')\n",
        "else:\n",
        "  print('INVALID CREDENTIALS')"
      ],
      "metadata": {
        "id": "-6-om211gxoK",
        "colab": {
          "base_uri": "https://localhost:8080/"
        },
        "outputId": "834b898d-8102-45c0-deb1-c6533192ba6c"
      },
      "execution_count": null,
      "outputs": [
        {
          "output_type": "stream",
          "name": "stdout",
          "text": [
            "ENTER YOUR EMAIL: 123\n",
            "ENTER YOUR PASSWORD: 12\n",
            "INVALID CREDENTIALS\n"
          ]
        }
      ]
    },
    {
      "cell_type": "code",
      "source": [
        "# WHEN TWO CONDITIONS ARE THERE THEN USE IF-ELSE\n",
        "# WHEN MORE THEN TWO CONDITIONS THEN USE IF-ELIF-ELSE\n",
        "\n",
        "email = input('ENTER YOUR EMAIL: ')\n",
        "password = input('ENTER YOUR PASSWORD: ')\n",
        "\n",
        "if email == 'soubanaliawan@gmail.com' and password == '1234':\n",
        "  print('you have successfuly logged in ')\n",
        "\n",
        "elif email == 'soubanaliawan@gmail.com' and password != '1234':\n",
        "  print('password is incorrect')\n",
        "  password = input('try again')\n",
        "  if password == '1234':\n",
        "    print('finally correct')\n",
        "  else:\n",
        "    print('still incorrect')\n",
        "else:\n",
        "  print('invalid credentials')\n"
      ],
      "metadata": {
        "colab": {
          "base_uri": "https://localhost:8080/"
        },
        "id": "CQhwznvUmtNb",
        "outputId": "c634339a-c516-4248-dc59-c0e24c752b72"
      },
      "execution_count": null,
      "outputs": [
        {
          "output_type": "stream",
          "name": "stdout",
          "text": [
            "ENTER YOUR EMAIL: soubanaliawan@gmail.com\n",
            "ENTER YOUR PASSWORD: 12\n",
            "password is incorrect\n",
            "try again1234\n",
            "finally correct\n"
          ]
        }
      ]
    },
    {
      "cell_type": "code",
      "source": [
        "email = input('ENTER YOUR EMAIL: ')\n",
        "password = input('ENTER YOUR PASSWORD: ')\n",
        "\n",
        "# Case 1: Correct email and password\n",
        "if email == 'soubanaliawan@gmail.com' and password == '1234':\n",
        "    print('You have successfully logged in.')\n",
        "\n",
        "# Case 2: Correct email, wrong password\n",
        "elif email == 'soubanaliawan@gmail.com' and password != '1234':\n",
        "    print('Password is incorrect.')\n",
        "    password = input('ENTER YOUR PASSWORD AGAIN: ')\n",
        "    if password == '1234':\n",
        "        print('Finally correct.')\n",
        "    else:\n",
        "        print('Still incorrect.')\n",
        "\n",
        "# Case 3: Wrong email, correct password\n",
        "elif email != 'soubanaliawan@gmail.com' and password == '1234':\n",
        "    print('Incorrect email.')\n",
        "    email = input('ENTER YOU EMAIL AGAIN: ')\n",
        "    if email == 'soubanaliawan@gmail.com':\n",
        "        print('Finally correct.')\n",
        "    else:\n",
        "        print('Still incorrect.')\n",
        "\n",
        "# Case 4: Both email and password are incorrect\n",
        "elif email != 'soubanaliawan@gmail.com' and password != '1234':\n",
        "    print('Incorrect email and password.')\n",
        "    email = input('ENTER YOUR EMAIL AGAIN: ')\n",
        "    password = input('ENTER YOUR PASSWORD AGAIN: ')\n",
        "    if email == 'soubanaliawan@gmail.com':\n",
        "        if password == '1234':\n",
        "            print('Finally correct.')\n",
        "        else:\n",
        "            print('Still incorrect password.')\n",
        "    else:\n",
        "        print('Still incorrect email.')\n",
        "\n",
        "# Fallback case (not really needed, but good practice)\n",
        "else:\n",
        "    print('Invalid credentials.')\n"
      ],
      "metadata": {
        "colab": {
          "base_uri": "https://localhost:8080/"
        },
        "id": "b3j8K0U-s-ZZ",
        "outputId": "1dcefb81-876c-4529-c3ac-0a1addcb517e"
      },
      "execution_count": null,
      "outputs": [
        {
          "output_type": "stream",
          "name": "stdout",
          "text": [
            "ENTER YOUR EMAIL: sobanaliawan@gmail.com\n",
            "ENTER YOUR PASSWORD: 123\n",
            "Incorrect email and password.\n",
            "Try again: soubanaliawan@gmail.com\n",
            "Try again: 1234\n",
            "Finally correct.\n"
          ]
        }
      ]
    },
    {
      "cell_type": "code",
      "source": [
        "# SMALLEST OF THREE NUMBERS\n",
        "a = int(input('ENTER THE FIRST NUMBER: '))\n",
        "b = int(input('ENTER THE SECOND NUMBER: '))\n",
        "c = int(input('ENTER THE THIRD NUMBER: '))\n",
        "\n",
        "if a < b and a < c :\n",
        "  print(\"Smallest num is: \",a)\n",
        "\n",
        "elif b < a and b < c :\n",
        "  print(\"Smallest num is: \",b)\n",
        "\n",
        "else:\n",
        "  print(\"Smallest num is: \",c)"
      ],
      "metadata": {
        "colab": {
          "base_uri": "https://localhost:8080/"
        },
        "id": "Fa7GbVqx8x8n",
        "outputId": "66d22329-135e-4ea9-ff69-f3808adb2c1f"
      },
      "execution_count": null,
      "outputs": [
        {
          "output_type": "stream",
          "name": "stdout",
          "text": [
            "ENTER THE FIRST NUMBER: 23\n",
            "ENTER THE SECOND NUMBER: 45\n",
            "ENTER THE THIRD NUMBER: 16\n",
            "Smallest num is:  16\n"
          ]
        }
      ]
    },
    {
      "cell_type": "code",
      "source": [
        "# LARGEST OF THREE NUMBERS\n",
        "a = int(input('ENTER THE FIRST NUMBER: '))\n",
        "b = int(input('ENTER THE SECOND NUMBER: '))\n",
        "c = int(input('ENTER THE THIRD NUMBER: '))\n",
        "\n",
        "if a > b and a > c :\n",
        "  print(\"Largest num is: \",a)\n",
        "\n",
        "elif b > a and b > c :\n",
        "  print(\"Largest num is: \",b)\n",
        "\n",
        "else:\n",
        "  print(\"Largest num is: \",c)"
      ],
      "metadata": {
        "colab": {
          "base_uri": "https://localhost:8080/"
        },
        "id": "wqIoZbtH9f0N",
        "outputId": "ac8a0860-14a3-4ac6-8241-c20fa5997255"
      },
      "execution_count": null,
      "outputs": [
        {
          "output_type": "stream",
          "name": "stdout",
          "text": [
            "ENTER THE FIRST NUMBER: -12\n",
            "ENTER THE SECOND NUMBER: -23\n",
            "ENTER THE THIRD NUMBER: -4\n",
            "Largest num is:  -4\n"
          ]
        }
      ]
    },
    {
      "cell_type": "code",
      "source": [
        "# MENU DRIVEN CALCULATOR\n",
        "\n",
        "fnum = int(input('ENTER THE FIRST NUMBER: '))\n",
        "snum = int(input('ENTER THE SECOND NUMBER: '))\n",
        "\n",
        "print('PRESS 1 FOR ADDITION')\n",
        "print('PRESS 2 FOR SUBTRACTION')\n",
        "print('PRESS 3 FOR MULTIPLICATION')\n",
        "print('PRESS 4 FOR DIVISION')\n",
        "print('PRESS 5 FOR MODULUS')\n",
        "print('PRESS 6 FOR FLOOR DIVISION')\n",
        "print('PRESS 7 FOR EXPONENT')\n",
        "\n",
        "option = int(input('ENTER YOUR OPTION: '))\n",
        "\n",
        "if option == 1:\n",
        "  print('ADDITION OF TWO NUMBERS IS: ',fnum + snum)\n",
        "\n",
        "elif option == 2:\n",
        "  print('substraction of two numbers is : ',fnum - snum)\n",
        "\n",
        "elif option == 3:\n",
        "  print('multiplication of two numbers is : ',fnum * snum)\n",
        "\n",
        "elif option == 4:\n",
        "  print('division of two numbers is : ',fnum / snum)\n",
        "\n",
        "elif option == 5:\n",
        "  print('modulus of two numbers is : ',fnum % snum)\n",
        "\n",
        "elif option == 6:\n",
        "  print('floor division of two numbers is : ',fnum // snum)\n",
        "\n",
        "elif option == 7:\n",
        "  print('exponent of two numbers is : ',fnum ** snum)\n",
        "\n",
        "else:\n",
        "  print('INVALID OPTION')\n"
      ],
      "metadata": {
        "colab": {
          "base_uri": "https://localhost:8080/"
        },
        "id": "IZidxvoI9-vu",
        "outputId": "5c587af9-d016-4801-b0cc-5c14a6b147da"
      },
      "execution_count": null,
      "outputs": [
        {
          "output_type": "stream",
          "name": "stdout",
          "text": [
            "ENTER THE FIRST NUMBER: 23\n",
            "ENTER THE SECOND NUMBER: 46\n",
            "PRESS 1 FOR ADDITION\n",
            "PRESS 2 FOR SUBTRACTION\n",
            "PRESS 3 FOR MULTIPLICATION\n",
            "PRESS 4 FOR DIVISION\n",
            "PRESS 5 FOR MODULUS\n",
            "PRESS 6 FOR FLOOR DIVISION\n",
            "PRESS 7 FOR EXPONENT\n",
            "ENTER YOUR OPTION: 6\n",
            "floor division of two numbers is :  0\n"
          ]
        }
      ]
    },
    {
      "cell_type": "markdown",
      "source": [
        "3. MODULES IN PYTHON"
      ],
      "metadata": {
        "id": "biv0L702J9bc"
      }
    },
    {
      "cell_type": "code",
      "source": [
        "\n",
        "# A module in Python is just a file containing Python code — functions, classes, or variables — that you can reuse in other programs.\n",
        "# MODULES:\n",
        "\n",
        "# 1.MATH\n",
        "import math\n",
        "math.factorial(5)\n",
        "math.sqrt(149)\n",
        "\n",
        "# 2.KEYWORDS\n",
        "import keyword\n",
        "print(keyword.kwlist)\n",
        "\n",
        "# 3.RANDOM\n",
        "import random\n",
        "print(random.randint(1,100))\n",
        "\n",
        "# 4. DATETIME\n",
        "import datetime\n",
        "print(datetime.datetime.now())"
      ],
      "metadata": {
        "colab": {
          "base_uri": "https://localhost:8080/"
        },
        "id": "QnP_vn1AGqxH",
        "outputId": "540c9b75-a438-4cde-a04c-04c9302d2c6f"
      },
      "execution_count": null,
      "outputs": [
        {
          "output_type": "stream",
          "name": "stdout",
          "text": [
            "['False', 'None', 'True', 'and', 'as', 'assert', 'async', 'await', 'break', 'class', 'continue', 'def', 'del', 'elif', 'else', 'except', 'finally', 'for', 'from', 'global', 'if', 'import', 'in', 'is', 'lambda', 'nonlocal', 'not', 'or', 'pass', 'raise', 'return', 'try', 'while', 'with', 'yield']\n",
            "78\n",
            "2025-06-21 10:59:39.415871\n"
          ]
        }
      ]
    },
    {
      "cell_type": "markdown",
      "source": [
        "4. LOOPS IN PYTHON\n",
        "\n",
        "  *  WHILE LOOP\n",
        "  * FOR LOOP\n"
      ],
      "metadata": {
        "id": "qJlAEs9kKGfD"
      }
    },
    {
      "cell_type": "code",
      "source": [
        "# PROGRAMME TO PRINT THE TABLE\n",
        "num = int(input('ENTER THE NUMBER'))\n",
        "i = 1\n",
        "while i<11:\n",
        "  print(num,\"*\",i,\"=\",num * i)\n",
        "  i+=1\n"
      ],
      "metadata": {
        "colab": {
          "base_uri": "https://localhost:8080/"
        },
        "id": "IKrDoxbVJtMz",
        "outputId": "abe15735-8e6a-4c3e-fcb5-705a5d49014d"
      },
      "execution_count": null,
      "outputs": [
        {
          "output_type": "stream",
          "name": "stdout",
          "text": [
            "ENTER THE NUMBER12\n",
            "12 * 1 = 12\n",
            "12 * 2 = 24\n",
            "12 * 3 = 36\n",
            "12 * 4 = 48\n",
            "12 * 5 = 60\n",
            "12 * 6 = 72\n",
            "12 * 7 = 84\n",
            "12 * 8 = 96\n",
            "12 * 9 = 108\n",
            "12 * 10 = 120\n"
          ]
        }
      ]
    },
    {
      "cell_type": "code",
      "source": [
        "# while loop with else\n",
        "x = 1\n",
        "while x < 11:\n",
        "  print(x)\n",
        "  x+=1\n",
        "else:\n",
        "  print('LIMIT CROSSED')"
      ],
      "metadata": {
        "colab": {
          "base_uri": "https://localhost:8080/"
        },
        "id": "sOL-2H_vRP5z",
        "outputId": "2d7b6afe-6d4d-4cb8-f52b-d50e98c49b0d"
      },
      "execution_count": null,
      "outputs": [
        {
          "output_type": "stream",
          "name": "stdout",
          "text": [
            "1\n",
            "2\n",
            "3\n",
            "4\n",
            "5\n",
            "6\n",
            "7\n",
            "8\n",
            "9\n",
            "10\n",
            "LIMIT CROSSED\n"
          ]
        }
      ]
    },
    {
      "cell_type": "code",
      "source": [
        "# GUESSING GAME\n",
        "# GENERATE A RANDOM INTEGER BETWEEN 1 AND 100\n",
        "import random\n",
        "Jackpot = random.randint(1,100)\n",
        "guess = int(input('GUESS THE NUMBER '))\n",
        "counter = 1\n",
        "while guess != Jackpot:\n",
        "  if guess < Jackpot:\n",
        "    print('Guess higher ')\n",
        "  else:\n",
        "    print('Guess lower ')\n",
        "  guess = int(input('GUESS THE NUMBER '))\n",
        "  counter += 1\n",
        "else:\n",
        "  print('YOU GUESSED IT RIGHT IN',counter,'ATTEMPTS')\n"
      ],
      "metadata": {
        "colab": {
          "base_uri": "https://localhost:8080/"
        },
        "id": "28d_kR-pT5ni",
        "outputId": "84905e5b-023b-4e87-c70e-cb15102c5296"
      },
      "execution_count": null,
      "outputs": [
        {
          "output_type": "stream",
          "name": "stdout",
          "text": [
            "GUESS THE NUMBER 12\n",
            "Guess higher \n",
            "GUESS THE NUMBER 20\n",
            "Guess higher \n",
            "GUESS THE NUMBER 40\n",
            "Guess lower \n",
            "GUESS THE NUMBER 30\n",
            "Guess higher \n",
            "GUESS THE NUMBER 35\n",
            "Guess lower \n",
            "GUESS THE NUMBER 34\n",
            "YOU GUESSED IT RIGHT IN 6 ATTEMPTS\n"
          ]
        }
      ]
    },
    {
      "cell_type": "code",
      "source": [
        "# FOR LOOP DEMO\n",
        "\n",
        "for i in range(1,11,1): #(start,end,difference)\n",
        "  print(i)\n",
        "\n",
        "for i in range(10,0,-1): #(start,end,difference)\n",
        "  print(i)\n",
        "\n"
      ],
      "metadata": {
        "colab": {
          "base_uri": "https://localhost:8080/"
        },
        "id": "2eGwVchMcFOZ",
        "outputId": "1ea9ba6e-e399-4704-c4a7-5c0964be1bd4"
      },
      "execution_count": null,
      "outputs": [
        {
          "output_type": "stream",
          "name": "stdout",
          "text": [
            "1\n",
            "2\n",
            "3\n",
            "4\n",
            "5\n",
            "6\n",
            "7\n",
            "8\n",
            "9\n",
            "10\n",
            "10\n",
            "9\n",
            "8\n",
            "7\n",
            "6\n",
            "5\n",
            "4\n",
            "3\n",
            "2\n",
            "1\n"
          ]
        }
      ]
    },
    {
      "cell_type": "markdown",
      "source": [
        "PROBLEM: THE CURRENT POPULATION OTF THE TOWN IS 10000 AND IT IS INREASING AT THE RATE OF 10% EACH YEAR. YOU HAVE TO WRITE A PROGRAMME TO FIND OUT THE POPULATION AT THE END OF EACH YEAR OF AST 10 YEARS\n"
      ],
      "metadata": {
        "id": "bzu4XGdPeQSg"
      }
    },
    {
      "cell_type": "code",
      "source": [
        "current_pop = 10000\n",
        "for i in range(10,0,-1):\n",
        "  print(i,current_pop)\n",
        "  current_pop = current_pop - 0.1*current_pop\n"
      ],
      "metadata": {
        "colab": {
          "base_uri": "https://localhost:8080/"
        },
        "id": "D0_5xYjueHvA",
        "outputId": "4c90b493-7f08-4b79-df56-52e0f5fb4f6f"
      },
      "execution_count": null,
      "outputs": [
        {
          "output_type": "stream",
          "name": "stdout",
          "text": [
            "10 10000\n",
            "9 9000.0\n",
            "8 8100.0\n",
            "7 7290.0\n",
            "6 6561.0\n",
            "5 5904.9\n",
            "4 5314.41\n",
            "3 4782.969\n",
            "2 4304.6721\n",
            "1 3874.20489\n"
          ]
        }
      ]
    },
    {
      "cell_type": "code",
      "source": [
        "n = int(input('ENTER THE NUMBER: '))\n",
        "result = 0\n",
        "fact = 1\n",
        "for i in range(1,n+1):\n",
        "  fact = fact * i\n",
        "  result = result + i/fact\n",
        "print(result)\n"
      ],
      "metadata": {
        "id": "W3YVf1GUzy3_",
        "outputId": "575749cc-b746-4b39-e73e-8e640f724c8b",
        "colab": {
          "base_uri": "https://localhost:8080/"
        }
      },
      "execution_count": 2,
      "outputs": [
        {
          "output_type": "stream",
          "name": "stdout",
          "text": [
            "ENTER THE NUMBER: 5\n",
            "2.708333333333333\n"
          ]
        }
      ]
    },
    {
      "cell_type": "markdown",
      "source": [
        "5.NESTED LOOPS\n"
      ],
      "metadata": {
        "id": "g4AbEowe8lTT"
      }
    },
    {
      "cell_type": "code",
      "source": [
        "for i in range(1,5):\n",
        "  for j in range(1,5):\n",
        "    print (i,j)\n"
      ],
      "metadata": {
        "id": "dSZ863Wv8k0n",
        "outputId": "7ec9691d-e4ea-45bb-e697-e5a0ca02b693",
        "colab": {
          "base_uri": "https://localhost:8080/"
        }
      },
      "execution_count": 4,
      "outputs": [
        {
          "output_type": "stream",
          "name": "stdout",
          "text": [
            "1 1\n",
            "1 2\n",
            "1 3\n",
            "1 4\n",
            "2 1\n",
            "2 2\n",
            "2 3\n",
            "2 4\n",
            "3 1\n",
            "3 2\n",
            "3 3\n",
            "3 4\n",
            "4 1\n",
            "4 2\n",
            "4 3\n",
            "4 4\n"
          ]
        }
      ]
    },
    {
      "cell_type": "code",
      "source": [
        "row = int(input('ENTER THE NUMBER of rows: '))\n",
        "\n",
        "for i in range(1, row + 1):\n",
        "    for j in range(1, i + 1):\n",
        "        print('*', end='')\n",
        "    print()  # Move to the next line after each row\n"
      ],
      "metadata": {
        "id": "NUoM-K0x_HK0",
        "outputId": "e792ecbc-59db-4527-c76c-65ad928f6b82",
        "colab": {
          "base_uri": "https://localhost:8080/"
        }
      },
      "execution_count": 9,
      "outputs": [
        {
          "output_type": "stream",
          "name": "stdout",
          "text": [
            "ENTER THE NUMBER of rows: 5\n",
            "*\n",
            "**\n",
            "***\n",
            "****\n",
            "*****\n"
          ]
        }
      ]
    },
    {
      "cell_type": "markdown",
      "source": [
        "LOOP CONTROL STATEMENTS"
      ],
      "metadata": {
        "id": "hX2Y0CC9L1wx"
      }
    },
    {
      "cell_type": "code",
      "source": [
        "# BREAK\n",
        "for i in range(1,11):\n",
        "  if i == 6:\n",
        "    break\n",
        "  print(i)\n",
        "# CONTINUE\n",
        "# PASS"
      ],
      "metadata": {
        "id": "QFI-3goNAgG0",
        "outputId": "294c542d-9a44-430f-d79e-82432a15301c",
        "colab": {
          "base_uri": "https://localhost:8080/"
        }
      },
      "execution_count": 16,
      "outputs": [
        {
          "output_type": "stream",
          "name": "stdout",
          "text": [
            "1\n",
            "2\n",
            "3\n",
            "4\n",
            "5\n"
          ]
        }
      ]
    },
    {
      "cell_type": "code",
      "source": [
        "lower = int(input('ENTER THE LOWER RANGE: '))\n",
        "upper = int(input('ENTER THE UPPER RANGE: '))\n",
        "\n",
        "for i in range(lower,upper+1):\n",
        "  if i > 1:\n",
        "    for j in range(2,i):\n",
        "      if i % j == 0:\n",
        "        break\n",
        "    else:\n",
        "      print(i)"
      ],
      "metadata": {
        "id": "t4DeYsqpPVVa",
        "outputId": "5dbcda4b-aa92-4a40-ee59-7861333a485c",
        "colab": {
          "base_uri": "https://localhost:8080/"
        }
      },
      "execution_count": 17,
      "outputs": [
        {
          "output_type": "stream",
          "name": "stdout",
          "text": [
            "ENTER THE LOWER RANGE: 10\n",
            "ENTER THE UPPER RANGE: 20\n",
            "11\n",
            "13\n",
            "17\n",
            "19\n"
          ]
        }
      ]
    },
    {
      "cell_type": "code",
      "source": [
        "# Continue statement skips the code and move on\n",
        "for i in range(1,11):\n",
        "  continue\n",
        "  print(i)"
      ],
      "metadata": {
        "id": "d3RBV-o9j6Lg"
      },
      "execution_count": 2,
      "outputs": []
    }
  ]
}