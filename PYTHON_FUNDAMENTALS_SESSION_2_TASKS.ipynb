{
  "nbformat": 4,
  "nbformat_minor": 0,
  "metadata": {
    "colab": {
      "provenance": [],
      "include_colab_link": true
    },
    "kernelspec": {
      "name": "python3",
      "display_name": "Python 3"
    },
    "language_info": {
      "name": "python"
    }
  },
  "cells": [
    {
      "cell_type": "markdown",
      "metadata": {
        "id": "view-in-github",
        "colab_type": "text"
      },
      "source": [
        "<a href=\"https://colab.research.google.com/github/SobanAliAwan/PYTHON-FUNDAMENTALS/blob/main/PYTHON_FUNDAMENTALS_SESSION_2_TASKS.ipynb\" target=\"_parent\"><img src=\"https://colab.research.google.com/assets/colab-badge.svg\" alt=\"Open In Colab\"/></a>"
      ]
    },
    {
      "cell_type": "markdown",
      "source": [
        "### `Problem 1`: Write a program that will give you in hand monthly salary after deduction on CTC - HRA(10%), DA(5%), PF(3%) and taxes deduction as below:\n",
        "\n",
        "> Salary(Lakhs) : Tax(%)\n",
        "\n",
        "*   Below 5 : 0%\n",
        "*   5-10 : 10%\n",
        "*   10-20 : 20%\n",
        "*   aboove 20 : 30%"
      ],
      "metadata": {
        "id": "w6RlOAXV2PWh"
      }
    },
    {
      "cell_type": "code",
      "source": [
        "salary = int(input('ENTER YOUR MONTHLY SALARY(IN LAKHS): '))\n",
        "\n",
        "if salary < 500000:\n",
        "  salary = salary - 0.18*salary\n",
        "  print('HRA 10% APPLIED')\n",
        "  print('DA 5% APPLIED')\n",
        "  print('Pf 3% APPLIED')\n",
        "  print('YOUR IN HAND MONTHLY SALARY IS: ',salary)\n",
        "\n",
        "elif salary >= 500000 and salary < 1000000:\n",
        "  salary = salary - 0.28*salary\n",
        "  print('HRA 10% APPLIED')\n",
        "  print('DA 5% APPLIED')\n",
        "  print('Pf 3% APPLIED')\n",
        "  print('10% TAX APPLIED')\n",
        "  print('YOUR IN HAND MONTHLY SALARY IS: ',salary)\n",
        "\n",
        "elif salary >= 1000000 and salary < 2000000:\n",
        "  salary = salary - 0.38*salary\n",
        "  print('HRA 10% APPLIED')\n",
        "  print('DA 5% APPLIED')\n",
        "  print('Pf 3% APPLIED')\n",
        "  print('20% TAX APPLIED')\n",
        "  print('YOUR IN HAND MONTHLY SALARY IS: ',salary)\n",
        "\n",
        "else:\n",
        "  salary = salary - 0.48*salary\n",
        "  print('HRA 10% APPLIED')\n",
        "  print('DA 5% APPLIED')\n",
        "  print('Pf 3% APPLIED')\n",
        "  print('30% TAX APPLIED')\n",
        "  print('YOUR IN HAND MONTHLY SALARY IS: ',salary)"
      ],
      "metadata": {
        "id": "7tMHvKYO2etI",
        "colab": {
          "base_uri": "https://localhost:8080/"
        },
        "outputId": "7e2fb867-8fff-4845-bac4-b5a81ea4fcd3"
      },
      "execution_count": 4,
      "outputs": [
        {
          "output_type": "stream",
          "name": "stdout",
          "text": [
            "ENTER YOUR MONTHLY SALARY(IN LAKHS): 3000000\n",
            "HRA 10% APPLIED\n",
            "DA 5% APPLIED\n",
            "Pf 3% APPLIED\n",
            "30% TAX APPLIED\n",
            "YOUR IN HAND MONTHLY SALARY IS:  1560000.0\n"
          ]
        }
      ]
    },
    {
      "cell_type": "markdown",
      "source": [
        "### `Problem 2`: Write a program that take a user input of three angles and will find out whether it can form a triangle or not."
      ],
      "metadata": {
        "id": "tYzCGqwl2hfN"
      }
    },
    {
      "cell_type": "code",
      "source": [
        "angel_1 = int(input('ENTER FIRST ANGE(IN DEGREE): '))\n",
        "angel_2 = int(input('ENTER SECOND ANGE(IN DEGREE): '))\n",
        "angel_3 = int(input('ENTER THIRD ANGE(IN DEGREE): '))\n",
        "\n",
        "if angel_1 + angel_2 + angel_3 == 180:\n",
        "  print('IT CAN FORM A TRIANGLE')\n",
        "else:\n",
        "  print('IT CANNOT FORM A TRIANGLE')"
      ],
      "metadata": {
        "id": "FYEqln-I2kxV"
      },
      "execution_count": null,
      "outputs": []
    },
    {
      "cell_type": "markdown",
      "source": [
        "### `Problem 3`: Write a program that will take user input of cost price and selling price and determines whether its a loss or a profit."
      ],
      "metadata": {
        "id": "5vEpPh8C2pE4"
      }
    },
    {
      "cell_type": "code",
      "source": [
        "cost_price = int(input('ENTER COST PRICE: '))\n",
        "selling_price = int(input('ENTER SELLING PRICE: '))\n",
        "\n",
        "if selling_price > cost_price:\n",
        "  print('IT IS A PROFIT')\n",
        "else:\n",
        "  print('IT IS A LOSS')"
      ],
      "metadata": {
        "id": "jDwBXlkO2sfl"
      },
      "execution_count": null,
      "outputs": []
    },
    {
      "cell_type": "markdown",
      "source": [
        "### `Problem 4`: Write a menu-driven program -\n",
        "1. cm to ft\n",
        "2. km to miles\n",
        "3. USD to INR\n",
        "4. exit"
      ],
      "metadata": {
        "id": "J_FG_cJW2ugT"
      }
    },
    {
      "cell_type": "code",
      "source": [
        "print('PRESS 1 TO CONVERT CM TO FT')\n",
        "print('PRESS 2 TO CONVERT KM TO MILES')\n",
        "print('PRESS 3 TO CONVERT USD TO INR')\n",
        "print('PRESS 4 TO EXIT')\n",
        "\n",
        "choice = int(input('ENTER YOUR CHOICE: '))\n",
        "\n",
        "if choice == 1 :\n",
        "  cm = input('ENTER CM VALUE: ')\n",
        "  ft = float(cm)/30.48\n",
        "  print('FT VALUE IS: ',ft)\n",
        "\n",
        "elif choice == 2:\n",
        "  km = input('ENTER KM VALUE: ')\n",
        "  miles = float(km)/1.609\n",
        "  print('MILES VALUE IS: ',miles)\n",
        "\n",
        "elif choice == 3:\n",
        "  usd = input('ENTER USD VALUE: ')\n",
        "  inr = float(usd)*83.5\n",
        "  print('INR VALUE IS: ',inr)\n",
        "\n",
        "elif choice == 4:\n",
        "  print('YOU HAVE EXCITED THE PROGRAMME')\n",
        "\n",
        "else:\n",
        "  print('INVALID OPTION SELECTED')"
      ],
      "metadata": {
        "id": "yBHhaCGQ2zpD",
        "colab": {
          "base_uri": "https://localhost:8080/"
        },
        "outputId": "cf6deddc-963e-4f24-b459-9e8169440188"
      },
      "execution_count": 8,
      "outputs": [
        {
          "output_type": "stream",
          "name": "stdout",
          "text": [
            "PRESS 1 TO CONVERT CM TO FT\n",
            "PRESS 2 TO CONVERT KM TO MILES\n",
            "PRESS 3 TO CONVERT USD TO INR\n",
            "PRESS 4 TO EXIT\n",
            "ENTER YOUR CHOICE: 3\n",
            "ENTER USD VALUE: 10\n",
            "INR VALUE IS:  835.0\n"
          ]
        }
      ]
    },
    {
      "cell_type": "markdown",
      "source": [
        "### `Problem 5` - Exercise 12: Display Fibonacci series up to 10 terms.\n",
        "\n",
        "*Note: The Fibonacci Sequence is a series of numbers. The next number is found by adding up the two numbers before it. The first two numbers are 0 and 1. For example, 0, 1, 1, 2, 3, 5, 8, 13, 21. The next number in this series above is 13+21 = 34*"
      ],
      "metadata": {
        "id": "LJJ30_Yw27ZU"
      }
    },
    {
      "cell_type": "code",
      "source": [
        "# Step 1: take number n for upto given number\n",
        "\n",
        "n = int(input('ENTER NUMBER OF TERMS:' ))\n",
        "\n",
        "\n",
        "x = 0\n",
        "y = 1\n",
        "z = 0\n",
        "\n",
        "while z <= n:\n",
        "  print(z)\n",
        "  x = y\n",
        "  y = z\n",
        "  z = x + y\n",
        "\n"
      ],
      "metadata": {
        "id": "ae_1rpe52-5R",
        "colab": {
          "base_uri": "https://localhost:8080/"
        },
        "outputId": "5bdac5ca-8f2f-4472-d24c-64427766d9b4"
      },
      "execution_count": 15,
      "outputs": [
        {
          "output_type": "stream",
          "name": "stdout",
          "text": [
            "ENTER NUMBER OF TERMS:10\n",
            "0\n",
            "1\n",
            "1\n",
            "2\n",
            "3\n",
            "5\n",
            "8\n"
          ]
        }
      ]
    },
    {
      "cell_type": "markdown",
      "source": [
        "FIBBONACI SERIES UPTO N TERM\n"
      ],
      "metadata": {
        "id": "h-UEP8UH6uCX"
      }
    },
    {
      "cell_type": "code",
      "source": [
        "# Step 1: Ask user how many terms to print\n",
        "n = int(input(\"ENTER NUMBER OF TERMS: \"))\n",
        "\n",
        "# Step 2: Start with 0 and 1\n",
        "x = 0  # first number\n",
        "y = 1  # second number\n",
        "count = 0  # to keep track of how many numbers we've printed\n",
        "\n",
        "# Step 3: Repeat until we print 'n' numbers\n",
        "while count < n:\n",
        "    print(x)\n",
        "    z = x + y   # z is the next number\n",
        "    x = y       # move y to x\n",
        "    y = z       # move next number to y\n",
        "    count += 1  # increase the count\n"
      ],
      "metadata": {
        "colab": {
          "base_uri": "https://localhost:8080/"
        },
        "id": "VdN214T66qx3",
        "outputId": "07b1d58a-b72b-44bc-80c4-f9b4ab76f98a"
      },
      "execution_count": 16,
      "outputs": [
        {
          "output_type": "stream",
          "name": "stdout",
          "text": [
            "ENTER NUMBER OF TERMS: 10\n",
            "0\n",
            "1\n",
            "1\n",
            "2\n",
            "3\n",
            "5\n",
            "8\n",
            "13\n",
            "21\n",
            "34\n"
          ]
        }
      ]
    },
    {
      "cell_type": "markdown",
      "source": [
        "### `Problem 6` - Find the factorial of a given number.\n",
        "\n",
        "Write a program to use the loop to find the factorial of a given number.\n",
        "\n",
        "The factorial (symbol: `!`) means to multiply all whole numbers from the chosen number down to 1.\n",
        "\n",
        "For example: calculate the factorial of 5\n",
        "\n",
        "```bash\n",
        "5! = 5 × 4 × 3 × 2 × 1 = 120\n",
        "```\n",
        "\n",
        "Output:\n",
        "\n",
        "```bash\n",
        "120\n",
        "```"
      ],
      "metadata": {
        "id": "pk_I_S4m3PT5"
      }
    },
    {
      "cell_type": "code",
      "source": [
        "num = int(input('ENTER NUMBER: '))\n",
        "fact = 1\n",
        "x = 1\n",
        "\n",
        "if num < 0:\n",
        "    print(\"Sorry, factorial does not exist for negative numbers.\")\n",
        "elif num == 0:\n",
        "    print(\"The factorial of 0 is 1.\")\n",
        "else:\n",
        "    while x <= num:\n",
        "        fact = fact * x\n",
        "        x += 1\n",
        "    print('FACTORIAL OF GIVEN NUMBER IS:', fact)\n",
        "\n"
      ],
      "metadata": {
        "id": "lzXxHegx3Rkc",
        "colab": {
          "base_uri": "https://localhost:8080/"
        },
        "outputId": "ee65e54b-1911-4b65-d224-a78b00004944"
      },
      "execution_count": 25,
      "outputs": [
        {
          "output_type": "stream",
          "name": "stdout",
          "text": [
            "ENTER NUMBER: 5\n",
            "FACTORIAL OF GIVEN NUMBER IS: 120\n"
          ]
        }
      ]
    },
    {
      "cell_type": "markdown",
      "source": [
        "### `Problem 7` - Reverse a given integer number.\n",
        "\n",
        "Example:\n",
        "\n",
        "`Input:`\n",
        "\n",
        "```bash\n",
        "76542\n",
        "```\n",
        "\n",
        "`Output:`\n",
        "\n",
        "```bash\n",
        "24567\n",
        "```"
      ],
      "metadata": {
        "id": "-17IOi-g3UpU"
      }
    },
    {
      "cell_type": "code",
      "source": [
        "i = int(input('ENTER THE NUMBER FOR REVERSE: '))\n",
        "rev = 0\n",
        "original = i  # Save the original number to print later\n",
        "\n",
        "while i > 0:\n",
        "    rev = (rev * 10) + i % 10  # Add digit to reversed number\n",
        "    i = i // 10            # Remove the last digit\n",
        "\n",
        "print('REVERSE OF THE GIVEN NUMBER', original, 'is:', rev)\n"
      ],
      "metadata": {
        "id": "wJwLpKCr3aVA",
        "colab": {
          "base_uri": "https://localhost:8080/"
        },
        "outputId": "035324eb-7dfc-4eda-9f3a-92fb70411063"
      },
      "execution_count": 31,
      "outputs": [
        {
          "output_type": "stream",
          "name": "stdout",
          "text": [
            "ENTER THE NUMBER FOR REVERSE: 76542\n",
            "REVERSE OF THE GIVEN NUMBER 76542 is: 24567\n"
          ]
        }
      ]
    },
    {
      "cell_type": "markdown",
      "source": [
        "### `Problem 8`: Take a user input as integer N. Find out the sum from 1 to N. If any number if divisible by 5, then skip that number. And if the sum is greater than 300, don't need to calculate the sum further more. Print the final result. And don't use for loop to solve this problem.\n",
        "\n",
        "**Example 1:**\n",
        "\n",
        "`Input:`\n",
        "\n",
        "```bash\n",
        "30\n",
        "```\n",
        "\n",
        "`Output:`\n",
        "\n",
        "```bash\n",
        "276\n",
        "```"
      ],
      "metadata": {
        "id": "-t8PJQaY3sHf"
      }
    },
    {
      "cell_type": "code",
      "source": [
        "N = int(input(\"Enter a number: \"))\n",
        "\n",
        "x = 1\n",
        "total = 0\n",
        "\n",
        "while x <= N:\n",
        "    if x % 5 == 0:\n",
        "        x += 1\n",
        "        continue  # skip this number\n",
        "\n",
        "    total += x\n",
        "\n",
        "    if total > 300:\n",
        "        print(\"Sum exceeded 300. Stopping early.\")\n",
        "        break\n",
        "\n",
        "    x += 1\n",
        "\n",
        "print(\"Final sum is:\", total)\n"
      ],
      "metadata": {
        "id": "GZB6mGMP3ujT"
      },
      "execution_count": null,
      "outputs": []
    },
    {
      "cell_type": "markdown",
      "source": [
        "### `Problem 9`: Write a program that keeps on accepting a number from the user until the user enters Zero. Display the sum and average of all the numbers."
      ],
      "metadata": {
        "id": "Q7ggImeA3xm4"
      }
    },
    {
      "cell_type": "code",
      "source": [
        "print(\"Enter numbers one by one. Enter 0 to stop.\")\n",
        "\n",
        "total = 0\n",
        "count = 0\n",
        "\n",
        "while True:\n",
        "    num = int(input(\"Enter a number: \"))\n",
        "\n",
        "    if num == 0:\n",
        "        break  # exit the loop\n",
        "\n",
        "    total += num\n",
        "    count += 1\n",
        "\n",
        "# After the loop ends\n",
        "if count == 0:\n",
        "    print(\"No numbers were entered.\")\n",
        "else:\n",
        "    average = total / count\n",
        "    print(\"Sum of numbers:\", total)\n",
        "    print(\"Average of numbers:\", average)\n"
      ],
      "metadata": {
        "id": "t_YDSZDe4Kdo",
        "colab": {
          "base_uri": "https://localhost:8080/"
        },
        "outputId": "71c19d9a-7159-40f1-c8ac-d45b2bcb81c7"
      },
      "execution_count": 32,
      "outputs": [
        {
          "output_type": "stream",
          "name": "stdout",
          "text": [
            "Enter numbers one by one. Enter 0 to stop.\n",
            "Enter a number: 1\n",
            "Enter a number: 2\n",
            "Enter a number: 5\n",
            "Enter a number: 8\n",
            "Enter a number: 0\n",
            "Sum of numbers: 16\n",
            "Average of numbers: 4.0\n"
          ]
        }
      ]
    },
    {
      "cell_type": "markdown",
      "source": [
        "###`Problem 9`: Write a program which will find all such numbers which are divisible by 7 but are not a multiple of 5, between 2000 and 3200 (both included). The numbers obtained should be printed in a comma-separated sequence on a single line."
      ],
      "metadata": {
        "id": "6EhvEMvm4R7s"
      }
    },
    {
      "cell_type": "code",
      "source": [
        "result = []  # empty list to store valid numbers\n",
        "\n",
        "# Loop from 2000 to 3200 (inclusive)\n",
        "i = 2000\n",
        "while i <= 3200:\n",
        "    if i % 7 == 0 and i % 5 != 0:\n",
        "        result.append(str(i))  # convert to string for joining\n",
        "    i += 1\n",
        "\n",
        "# Print all valid numbers as comma-separated string\n",
        "print(\",\".join(result))\n"
      ],
      "metadata": {
        "id": "d6RgP1B34T6c"
      },
      "execution_count": null,
      "outputs": []
    },
    {
      "cell_type": "markdown",
      "source": [
        "###`Problem 10`: Write a program, which will find all such numbers between 1000 and 3000 (both included) such that each digit of the number is an even number. The numbers obtained should be printed in a space-separated sequence on a single line.\n",
        "\n"
      ],
      "metadata": {
        "id": "tYvmRR-G4Vp4"
      }
    },
    {
      "cell_type": "code",
      "source": [
        "result = []  # List to store valid numbers\n",
        "\n",
        "# Loop through range 1000 to 3000\n",
        "num = 1000\n",
        "while num <= 3000:\n",
        "    num_str = str(num)\n",
        "    if all(int(digit) % 2 == 0 for digit in num_str):  # check if all digits are even\n",
        "        result.append(num_str)  # store as string for space-join\n",
        "    num += 1\n",
        "\n",
        "# Print the result as space-separated values\n",
        "print(\" \".join(result))\n"
      ],
      "metadata": {
        "id": "k6Gs1kIf4k19"
      },
      "execution_count": null,
      "outputs": []
    },
    {
      "cell_type": "markdown",
      "source": [
        "###`Problem 11`: A robot moves in a plane starting from the original point (0,0). The robot can move toward UP, DOWN, LEFT and RIGHT with a given steps.\n",
        "The trace of robot movement is shown as the following:\n",
        "```\n",
        "UP 5\n",
        "DOWN 3\n",
        "LEFT 3\n",
        "RIGHT 2\n",
        "!\n",
        "```\n",
        "> The numbers after the direction are steps.\n",
        "\n",
        "> `!` means robot stop there.\n",
        "\n",
        "**Please write a program to compute the distance from current position after a sequence of movement and original point.**\n",
        "\n",
        "*If the distance is a float, then just print the nearest integer.*\n",
        "\n",
        "Example:\n",
        "\n",
        "`Input`:\n",
        "```\n",
        "UP 5\n",
        "DOWN 3\n",
        "LEFT 3\n",
        "RIGHT 2\n",
        "!\n",
        "```\n",
        "`Output`:\n",
        "```\n",
        "2\n",
        "```"
      ],
      "metadata": {
        "id": "GV18IINT4mf5"
      }
    },
    {
      "cell_type": "code",
      "source": [
        "up = int(input('ENTER NUMBER OF UP STEPS: '))\n",
        "down = int(input('ENTER NUMBER OF DOWN STEPS: '))\n",
        "left = int(input('ENTER NUMBER OF LEFT STEPS: '))\n",
        "right = int(input('ENTER NUMBER OF RIGHT STEPS: '))\n",
        "\n",
        "x = right - left    # x-axis = right - left\n",
        "y = up - down       # y-axis = up - down\n",
        "\n",
        "distance = (x**2 + y**2)**0.5\n",
        "distance = round(distance)\n",
        "\n",
        "print('DISTANCE IS:', distance)\n"
      ],
      "metadata": {
        "id": "6UNMC2aR4w5x",
        "colab": {
          "base_uri": "https://localhost:8080/"
        },
        "outputId": "231a5ca3-43fd-405a-cf21-e8a8588ace85"
      },
      "execution_count": 2,
      "outputs": [
        {
          "output_type": "stream",
          "name": "stdout",
          "text": [
            "ENTER NUMBER OF UP STEPS: 5\n",
            "ENTER NUMBER OF DOWN STEPS: 3\n",
            "ENTER NUMBER OF LEFT STEPS: 3\n",
            "ENTER NUMBER OF RIGHT STEPS: 2\n",
            "DISTANCE IS:  2\n"
          ]
        }
      ]
    },
    {
      "cell_type": "markdown",
      "source": [
        "###`Problem 12`:Write a program to print whether a given number is a prime number or not"
      ],
      "metadata": {
        "id": "3fsAIAhK5GYY"
      }
    },
    {
      "cell_type": "code",
      "source": [
        "num = int(input(\"Enter a number: \"))\n",
        "count = 0\n",
        "i = 1\n",
        "\n",
        "while i <= num:\n",
        "  if num % i == 0:\n",
        "    count += 1\n",
        "  i +=1\n",
        "\n",
        "if count == 2:\n",
        "  print('IT IS A PRIME NUMBER')\n",
        "else:\n",
        "  print('IT IS NOT A PRIME NUMBER')\n"
      ],
      "metadata": {
        "id": "j6y91lxy5LZs",
        "colab": {
          "base_uri": "https://localhost:8080/"
        },
        "outputId": "d7d69e3b-d1c8-4f39-82f0-32a552125f1d"
      },
      "execution_count": 14,
      "outputs": [
        {
          "output_type": "stream",
          "name": "stdout",
          "text": [
            "Enter a number: 8\n",
            "IT IS NOT A PRIME NUMBER\n"
          ]
        }
      ]
    },
    {
      "cell_type": "markdown",
      "source": [
        "###`Problem 13`:Print all the Armstrong numbers in a given range.\n",
        "Range will be provided by the user<br>\n",
        "Armstrong number is a number that is equal to the sum of cubes of its digits. For example 0, 1, 153, 370, 371 and 407 are the Armstrong numbers."
      ],
      "metadata": {
        "id": "asAbmbK-5NHv"
      }
    },
    {
      "cell_type": "code",
      "source": [
        "i = int(input(\"ENTER THE NUMBER: \"))\n",
        "org = i\n",
        "n = len(str(i)) #conert number into string and then count its length\n",
        "sum = 0\n",
        "\n",
        "while i > 0:\n",
        "    digit = i % 10\n",
        "    sum += digit ** n\n",
        "    i = i // 10\n",
        "\n",
        "if sum == org:\n",
        "    print(\"IT IS AN ARMSTRONG NUMBER\")\n",
        "else:\n",
        "    print(\"IT IS NOT AN ARMSTRONG NUMBER\")\n"
      ],
      "metadata": {
        "id": "PZuI67pm5jCT"
      },
      "execution_count": null,
      "outputs": []
    },
    {
      "cell_type": "markdown",
      "source": [
        "###`Problem 14`:Calculate the angle between the hour hand and minute hand.\n",
        "\n",
        "Note: There can be two angles between hands; we need to print a minimum of two. Also, we need to print the floor of the final result angle. For example, if the final angle is 10.61, we need to print 10.\n",
        "\n",
        "Input:<br>\n",
        "H = 9 , M = 0<br>\n",
        "Output:<br>\n",
        "90<br>\n",
        "Explanation:<br>\n",
        "The minimum angle between hour and minute\n",
        "hand when the time is 9 is 90 degress."
      ],
      "metadata": {
        "id": "ClCQZMqT7gK0"
      }
    },
    {
      "cell_type": "code",
      "source": [
        "import math\n",
        "\n",
        "# Input\n",
        "H = int(input(\"Enter hour (0 to 12): \"))\n",
        "M = int(input(\"Enter minutes (0 to 59): \"))\n",
        "\n",
        "# Step 1: Calculate angles of hour and minute hands\n",
        "minute_angle = M * 6\n",
        "hour_angle = H * 30 + M * 0.5\n",
        "\n",
        "# Step 2: Find difference\n",
        "angle = abs(hour_angle - minute_angle)\n",
        "\n",
        "# Step 3: Get minimum angle\n",
        "min_angle = min(angle, 360 - angle)\n",
        "\n",
        "# Step 4: Print floored result\n",
        "print(math.floor(min_angle))\n"
      ],
      "metadata": {
        "id": "tNBTCZML7jy_",
        "colab": {
          "base_uri": "https://localhost:8080/"
        },
        "outputId": "2708f05d-6003-46be-f5dc-bdc05227df4e"
      },
      "execution_count": 15,
      "outputs": [
        {
          "output_type": "stream",
          "name": "stdout",
          "text": [
            "Enter hour (0 to 12): 6\n",
            "Enter minutes (0 to 59): 12\n",
            "114\n"
          ]
        }
      ]
    },
    {
      "cell_type": "markdown",
      "source": [
        "###`Problem 15`:Given two rectangles, find if the given two rectangles overlap or not. A rectangle is denoted by providing the x and y coordinates of two points: the left top corner and the right bottom corner of the rectangle. Two rectangles sharing a side are considered overlapping. (L1 and R1 are the extreme points of the first rectangle and L2 and R2 are the extreme points of the second rectangle).\n",
        "\n",
        "Note: It may be assumed that the rectangles are parallel to the coordinate axis.\n",
        "\n",
        "<img src='https://www.geeksforgeeks.org/wp-content/uploads/rectanglesOverlap.png' width='300' height='200'>"
      ],
      "metadata": {
        "id": "GwacF9Co72Qc"
      }
    },
    {
      "cell_type": "code",
      "source": [
        "# Define points as dictionaries for clarity\n",
        "L1 = {'x': int(input(\"Enter x of top-left corner of Rectangle 1: \")),\n",
        "      'y': int(input(\"Enter y of top-left corner of Rectangle 1: \"))}\n",
        "R1 = {'x': int(input(\"Enter x of bottom-right corner of Rectangle 1: \")),\n",
        "      'y': int(input(\"Enter y of bottom-right corner of Rectangle 1: \"))}\n",
        "\n",
        "L2 = {'x': int(input(\"Enter x of top-left corner of Rectangle 2: \")),\n",
        "      'y': int(input(\"Enter y of top-left corner of Rectangle 2: \"))}\n",
        "R2 = {'x': int(input(\"Enter x of bottom-right corner of Rectangle 2: \")),\n",
        "      'y': int(input(\"Enter y of bottom-right corner of Rectangle 2: \"))}\n",
        "\n",
        "# Check if one rectangle is to the left of the other\n",
        "if R1['x'] < L2['x'] or R2['x'] < L1['x']:\n",
        "    print(\"Rectangles do NOT overlap.\")\n",
        "# Check if one rectangle is above the other\n",
        "elif R1['y'] > L2['y'] or R2['y'] > L1['y']:\n",
        "    print(\"Rectangles do NOT overlap.\")\n",
        "else:\n",
        "    print(\"Rectangles DO overlap.\")\n"
      ],
      "metadata": {
        "id": "6rrw_lpH78Rs"
      },
      "execution_count": null,
      "outputs": []
    }
  ]
}